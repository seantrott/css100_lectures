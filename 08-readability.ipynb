{
  "cells": [
    {
      "cell_type": "markdown",
      "id": "586ce236",
      "metadata": {
        "id": "586ce236"
      },
      "source": [
        "# Measuring readability with NLP"
      ]
    },
    {
      "cell_type": "markdown",
      "id": "949e1bba",
      "metadata": {
        "id": "949e1bba"
      },
      "source": [
        "## Lecture plan\n",
        "\n",
        "- What is **readability**?  \n",
        "- Approaches to *measuring* readability.  \n",
        "   - Implementing a simple readability formula.\n",
        "- Limitations and future work."
      ]
    },
    {
      "cell_type": "markdown",
      "id": "e60e8825",
      "metadata": {
        "id": "e60e8825"
      },
      "source": [
        "## What is readability?\n",
        "\n",
        "> **Readability** refers to how easy, accessible, or comprehensible a text is to read.\n",
        "\n",
        "- A children's book is typically *easy* to read.  \n",
        "- *Ulysses* by James Joyce is generally considered difficult to read.\n",
        "- Obviously a spectrum, and dependent on *context* and *audience*.\n"
      ]
    },
    {
      "cell_type": "markdown",
      "id": "f4e711c4",
      "metadata": {
        "id": "f4e711c4"
      },
      "source": [
        "### Why does readability matter?\n",
        "\n",
        "- **Education**: important for determining \"grade level\" of books.  \n",
        "- **Accessbility**: texts should be *comprehensible* by people who need to understand them.\n",
        "   - [Web content accessibility guidelines](https://en.wikipedia.org/wiki/Web_Content_Accessibility_Guidelines) discuss readability.\n",
        "   - [Some product manuals](https://en.wikipedia.org/wiki/Linsear_Write) make use of readability of formulas.  \n",
        "   - Probably important for legal contracts too, e.g., [\"legalese\"](https://www.merriam-webster.com/dictionary/legalese)."
      ]
    },
    {
      "cell_type": "markdown",
      "id": "9c09b356",
      "metadata": {
        "id": "9c09b356"
      },
      "source": [
        "### How can we *measure* readability?\n",
        "\n",
        "- One approach is to *ask people*.\n",
        "   - Time-consuming, hard to do for *every* text.\n",
        "- Another approach is to develop **formulas** to estimate readability.\n",
        "   - E.g., number/length of words, etc.\n",
        "- And yet another approach is to **build models** to estimate readability from labeled text.  \n",
        "\n",
        "We'll be focusing on some of the *formulas*."
      ]
    },
    {
      "cell_type": "markdown",
      "id": "baf0e707",
      "metadata": {
        "id": "baf0e707"
      },
      "source": [
        "### Caveats: all imperfect!\n",
        "\n",
        "- No readability formula is perfect: all make **simplifying assumptions**.  \n",
        "   - E.g., assume long words are harder, etc.\n",
        "- Readability probably isn't a **unitary construct**.\n",
        "   - Readability for the classoom ≠ readability for product manuals.\n",
        "- But it can still be instructive to learn about how readability is estimated."
      ]
    },
    {
      "cell_type": "markdown",
      "id": "08a51b65",
      "metadata": {
        "id": "08a51b65"
      },
      "source": [
        "## Readability: basic approaches\n",
        "\n",
        "> Traditional approaches to measuring readability rely on [**formulas**](https://en.wikipedia.org/wiki/Readability#Popular_Readability_Formulas).\n",
        "\n",
        "- Incorporate basic, interpretable **features of text**.  \n",
        "   - E.g., length of words, number of words, length of sentences.  \n",
        "- Combine these features using **pre-defined operations**."
      ]
    },
    {
      "cell_type": "markdown",
      "id": "883bc1c5",
      "metadata": {
        "id": "883bc1c5"
      },
      "source": [
        "### Flesch-Kincaid: a classic approach\n",
        "\n",
        "> [Flesch-Kincaid](https://en.wikipedia.org/wiki/Flesch%E2%80%93Kincaid_readability_tests) is a particularly well-known approach, which uses the total number of **syllables**, total number of **words**, and total number of **sentences** in a text.\n",
        "\n",
        "The **grade level** of a text is measured as follows:\n",
        "\n",
        "$0.39 * \\frac{count(words)}{count(sentences)} + 11.8 * \\frac{count(syllables)}{count(words)} - 15.59$\n",
        "\n",
        "- Ratio of *words* to *sentences*: how long is average sentence?  \n",
        "- Ratio of *syllables* to *words*: how long is average word?\n",
        "- **Assumption**: longer sentences with longer words are *less readable*.\n",
        "- The numbers are like *coefficients* to make the output interpretable with respect to grade level."
      ]
    },
    {
      "cell_type": "markdown",
      "id": "70f704f5",
      "metadata": {
        "id": "70f704f5"
      },
      "source": [
        "#### Check-in: Implementing Flesch-Kincaid from scratch\n",
        "\n",
        "Let's start by implementing the *first half* of Flesch-Kincaid:\n",
        "\n",
        "$\\frac{count(words)}{count(sentences)}$\n",
        "\n",
        "How could we calculate the ratio of *words* to *sentences* in a text?"
      ]
    },
    {
      "cell_type": "code",
      "execution_count": null,
      "id": "6b208f72",
      "metadata": {
        "id": "6b208f72"
      },
      "outputs": [],
      "source": [
        "### Your code here"
      ]
<<<<<<< HEAD
     },
     "execution_count": 16,
     "metadata": {},
     "output_type": "execute_result"
    }
   ],
   "source": [
    "### Looking at the first pronunciation of \"friendly\"\n",
    "d['friendly'][0]"
   ]
  },
  {
   "cell_type": "markdown",
   "id": "2904776b",
   "metadata": {
    "slideshow": {
     "slide_type": "slide"
    }
   },
   "source": [
    "#### Putting it altogether\n",
    "\n",
    "- First, if word is in CMU:\n",
    "   - We calculate number of syllables in *first pronunciation*.\n",
    "- CMU may not have *every* word in the dictionary, so we can **fall back** on our other function."
   ]
  },
  {
   "cell_type": "code",
   "execution_count": 17,
   "id": "39a3b84f",
   "metadata": {
    "slideshow": {
     "slide_type": "-"
    }
   },
   "outputs": [],
   "source": [
    "def estimate_syllables(word):\n",
    "    \"\"\"\n",
    "    Returns the number of syllables in a word using the CMU Pronouncing Dictionary.\n",
    "    If the word isn't found, falls back to a heuristic approach.\n",
    "    \"\"\"\n",
    "    word = word.lower()\n",
    "    if word in d:\n",
    "        return [len(list(y for y in x if y[-1].isdigit())) for x in d[word]][0]\n",
    "    else:\n",
    "        # Fallback syllable counter\n",
    "        return modified_syllable_count(word)"
   ]
  },
  {
   "cell_type": "code",
   "execution_count": 18,
   "id": "3e8469ed",
   "metadata": {
    "slideshow": {
     "slide_type": "-"
    }
   },
   "outputs": [
=======
    },
>>>>>>> 059e4cfe6c61713393553ae4bbb1bb3534a75bf1
    {
      "cell_type": "markdown",
      "id": "07155db7",
      "metadata": {
        "id": "07155db7"
      },
      "source": [
        "#### Comparing words to sentences\n",
        "\n",
        "We can use `nltk.word_tokenize` and `nltk.sent_tokenize` here."
      ]
<<<<<<< HEAD
     },
     "execution_count": 18,
     "metadata": {},
     "output_type": "execute_result"
    }
   ],
   "source": [
    "estimate_syllables(\"friendly\")"
   ]
  },
  {
   "cell_type": "code",
   "execution_count": 19,
   "id": "0f72154e",
   "metadata": {
    "slideshow": {
     "slide_type": "-"
    }
   },
   "outputs": [
=======
    },
>>>>>>> 059e4cfe6c61713393553ae4bbb1bb3534a75bf1
    {
      "cell_type": "code",
      "execution_count": null,
      "id": "3c2332df",
      "metadata": {
        "id": "3c2332df"
      },
      "outputs": [],
      "source": [
        "import nltk"
      ]
<<<<<<< HEAD
     },
     "execution_count": 19,
     "metadata": {},
     "output_type": "execute_result"
    }
   ],
   "source": [
    "estimate_syllables(\"mistake\")"
   ]
  },
  {
   "cell_type": "markdown",
   "id": "22b7c608",
   "metadata": {
    "slideshow": {
     "slide_type": "slide"
    }
   },
   "source": [
    "#### Complete Flesch-Kincaid formula\n",
    "\n",
    "- Okay, now let's create our final Flesch-Kincaid formula."
   ]
  },
  {
   "cell_type": "code",
   "execution_count": 20,
   "id": "93c87733",
   "metadata": {
    "slideshow": {
     "slide_type": "-"
    }
   },
   "outputs": [],
   "source": [
    "def flesch_kincaid_grade_level(text):\n",
    "    sentences = nltk.sent_tokenize(text)\n",
    "    words = nltk.word_tokenize(text)\n",
    "    num_sentences = len(sentences)\n",
    "    num_words = len(words)\n",
    "    num_syllables = sum(estimate_syllables(word) for word in words if word.isalpha())  # only count alphabetic words to avoid punctuation\n",
    "    \n",
    "    if num_words == 0 or num_sentences == 0:\n",
    "        return 0  # Avoid division by zero\n",
    "    \n",
    "    grade_level = 0.39 * (num_words / num_sentences) + 11.8 * (num_syllables / num_words) - 15.59\n",
    "    return grade_level"
   ]
  },
  {
   "cell_type": "markdown",
   "id": "d2c319ba",
   "metadata": {
    "slideshow": {
     "slide_type": "slide"
    }
   },
   "source": [
    "#### Testing our implementation (1)"
   ]
  },
  {
   "cell_type": "code",
   "execution_count": 21,
   "id": "674b1fb1",
   "metadata": {
    "slideshow": {
     "slide_type": "-"
    }
   },
   "outputs": [],
   "source": [
    "sample_text1 = '\"The Australian platypus is seemingly a hybrid of a mammal and reptilian creature.'\n",
    "sample_text2 = \"Dogs are pretty cute and also run really fast.\""
   ]
  },
  {
   "cell_type": "code",
   "execution_count": 22,
   "id": "5402ce33",
   "metadata": {},
   "outputs": [
=======
    },
>>>>>>> 059e4cfe6c61713393553ae4bbb1bb3534a75bf1
    {
      "cell_type": "code",
      "execution_count": null,
      "id": "47684b69",
      "metadata": {
        "id": "47684b69"
      },
      "outputs": [],
      "source": [
        "def calculate_word_sentence_ratio(text):\n",
        "    num_words = len(nltk.word_tokenize(text))\n",
        "    num_sentences = len(nltk.sent_tokenize(text))\n",
        "    return num_words/num_sentences"
      ]
<<<<<<< HEAD
     },
     "execution_count": 22,
     "metadata": {},
     "output_type": "execute_result"
    }
   ],
   "source": [
    "flesch_kincaid_grade_level(sample_text1)"
   ]
  },
  {
   "cell_type": "code",
   "execution_count": 23,
   "id": "6a22f06f",
   "metadata": {},
   "outputs": [
=======
    },
>>>>>>> 059e4cfe6c61713393553ae4bbb1bb3534a75bf1
    {
      "cell_type": "code",
      "execution_count": null,
      "id": "dccb8dec",
      "metadata": {
        "id": "dccb8dec"
      },
      "outputs": [],
      "source": [
        "text = \"It was a dark and stormy night. Everyone was all inside.\"\n",
        "calculate_word_sentence_ratio(text)"
      ]
<<<<<<< HEAD
     },
     "execution_count": 23,
     "metadata": {},
     "output_type": "execute_result"
    }
   ],
   "source": [
    "flesch_kincaid_grade_level(sample_text2)"
   ]
  },
  {
   "cell_type": "markdown",
   "id": "a55211c2",
   "metadata": {
    "slideshow": {
     "slide_type": "slide"
    }
   },
   "source": [
    "#### Testing our implementation (2)\n",
    "\n",
    "- The [CLEAR Corpus](https://link.springer.com/article/10.3758/s13428-022-01802-x) contains human judgments about the readability of text excerpts. \n",
    "- It also contains estimates of Flesch-Kincaid score, etc., for those excerpts."
   ]
  },
  {
   "cell_type": "code",
   "execution_count": 24,
   "id": "0f40cabf",
   "metadata": {
    "slideshow": {
     "slide_type": "-"
    }
   },
   "outputs": [],
   "source": [
    "import pandas as pd\n",
    "import seaborn as sns\n",
    "import scipy.stats as ss\n",
    "%matplotlib inline\n",
    "%config InlineBackend.figure_format = 'retina' "
   ]
  },
  {
   "cell_type": "code",
   "execution_count": 25,
   "id": "6940a35a",
   "metadata": {
    "slideshow": {
     "slide_type": "-"
    }
   },
   "outputs": [
=======
    },
>>>>>>> 059e4cfe6c61713393553ae4bbb1bb3534a75bf1
    {
      "cell_type": "markdown",
      "id": "77b76351",
      "metadata": {
        "id": "77b76351"
      },
      "source": [
        "#### Check-in: calculating syllable:word ratio\n",
        "\n",
        "The second half of Flesch-Kincaid relies on the *syllable:word* ratio:\n",
        "\n",
        "$\\frac{count(syllables)}{count(words)}$\n",
        "\n",
        "Here, we'll need to estimate the number of syllables. How might we do this?"
      ]
<<<<<<< HEAD
     },
     "execution_count": 25,
     "metadata": {},
     "output_type": "execute_result"
    }
   ],
   "source": [
    "df_clear = pd.read_csv(\"data/text/CLEAR_corpus_final.csv\")\n",
    "df_clear.head(2)"
   ]
  },
  {
   "cell_type": "markdown",
   "id": "1e4a7735",
   "metadata": {
    "slideshow": {
     "slide_type": "slide"
    }
   },
   "source": [
    "#### Check-in: estimate readability scores\n",
    "\n",
    "Use `.apply` on the `Excerpt` column to estimate the Flesch-Kincaid score for each of those excerpts."
   ]
  },
  {
   "cell_type": "code",
   "execution_count": 26,
   "id": "5bbbc23f",
   "metadata": {},
   "outputs": [],
   "source": [
    "### Your code here"
   ]
  },
  {
   "cell_type": "markdown",
   "id": "58f2eca6",
   "metadata": {
    "slideshow": {
     "slide_type": "slide"
    }
   },
   "source": [
    "#### Using `.apply`"
   ]
  },
  {
   "cell_type": "code",
   "execution_count": 27,
   "id": "ced99ab2",
   "metadata": {
    "slideshow": {
     "slide_type": "-"
    }
   },
   "outputs": [],
   "source": [
    "df_clear['fk_estimate'] = df_clear['Excerpt'].apply(lambda x: flesch_kincaid_grade_level(x))"
   ]
  },
  {
   "cell_type": "markdown",
   "id": "c3d309af",
   "metadata": {
    "slideshow": {
     "slide_type": "slide"
    }
   },
   "source": [
    "#### Checking our work\n",
    "\n",
    "- We see a pretty good correlation with the ground truth.  \n",
    "- Divergences are probably due to different ways of counting punctuation, etc."
   ]
  },
  {
   "cell_type": "code",
   "execution_count": 28,
   "id": "02560272",
   "metadata": {},
   "outputs": [
=======
    },
>>>>>>> 059e4cfe6c61713393553ae4bbb1bb3534a75bf1
    {
      "cell_type": "code",
      "execution_count": null,
      "id": "eb160247",
      "metadata": {
        "id": "eb160247"
      },
      "outputs": [],
      "source": [
        "### Your code/ideas here"
      ]
<<<<<<< HEAD
     },
     "execution_count": 28,
     "metadata": {},
     "output_type": "execute_result"
    }
   ],
   "source": [
    "ss.pearsonr(df_clear['Flesch-Kincaid-Grade-Level'], df_clear['fk_estimate'])"
   ]
  },
  {
   "cell_type": "code",
   "execution_count": 29,
   "id": "714c8910",
   "metadata": {},
   "outputs": [
=======
    },
>>>>>>> 059e4cfe6c61713393553ae4bbb1bb3534a75bf1
    {
      "cell_type": "markdown",
      "id": "cc617bee",
      "metadata": {
        "id": "cc617bee"
      },
      "source": [
        "#### Calculating syllables: a naive approach\n",
        "\n",
        "- Naively, English words have *about* one vowel per syllable.  \n",
        "- So we can just count the number of vowels in a word."
      ]
<<<<<<< HEAD
     },
     "execution_count": 29,
     "metadata": {},
     "output_type": "execute_result"
=======
>>>>>>> 059e4cfe6c61713393553ae4bbb1bb3534a75bf1
    },
    {
      "cell_type": "code",
      "execution_count": null,
      "id": "664d21be",
      "metadata": {
        "id": "664d21be"
      },
      "outputs": [],
      "source": [
        "def naive_syllable_count(word):\n",
        "    word = word.lower()\n",
        "    syllable_count = 0\n",
        "    vowels = \"aeiouy\"\n",
        "    for i in word:\n",
        "        if i in vowels:\n",
        "            syllable_count += 1\n",
        "    return syllable_count"
      ]
<<<<<<< HEAD
     },
     "metadata": {
      "image/png": {
       "height": 432,
       "width": 563
      }
     },
     "output_type": "display_data"
    }
   ],
   "source": [
    "sns.scatterplot(data = df_clear, \n",
    "                x = \"Flesch-Kincaid-Grade-Level\",\n",
    "               y = \"fk_estimate\", alpha = .5)"
   ]
  },
  {
   "cell_type": "markdown",
   "id": "cbb12442",
   "metadata": {
    "slideshow": {
     "slide_type": "slide"
    }
   },
   "source": [
    "#### Does it predict *actual* readability?\n",
    "\n",
    "- Correlated, but not *amazingly*, with human judgments of readability."
   ]
  },
  {
   "cell_type": "code",
   "execution_count": 30,
   "id": "bf8d1915",
   "metadata": {},
   "outputs": [
=======
    },
>>>>>>> 059e4cfe6c61713393553ae4bbb1bb3534a75bf1
    {
      "cell_type": "code",
      "execution_count": null,
      "id": "973de93f",
      "metadata": {
        "id": "973de93f"
      },
      "outputs": [],
      "source": [
        "naive_syllable_count(\"hello\") ### works"
      ]
<<<<<<< HEAD
     },
     "execution_count": 30,
     "metadata": {},
     "output_type": "execute_result"
    }
   ],
   "source": [
    "ss.pearsonr(df_clear['BT_easiness'], df_clear['fk_estimate'])"
   ]
  },
  {
   "cell_type": "code",
   "execution_count": 31,
   "id": "9987eae8",
   "metadata": {},
   "outputs": [
=======
    },
>>>>>>> 059e4cfe6c61713393553ae4bbb1bb3534a75bf1
    {
      "cell_type": "code",
      "execution_count": null,
      "id": "c43ed60d",
      "metadata": {
        "id": "c43ed60d"
      },
      "outputs": [],
      "source": [
        "naive_syllable_count(\"flies\") ### hmm..."
      ]
<<<<<<< HEAD
     },
     "execution_count": 31,
     "metadata": {},
     "output_type": "execute_result"
=======
>>>>>>> 059e4cfe6c61713393553ae4bbb1bb3534a75bf1
    },
    {
      "cell_type": "code",
      "execution_count": null,
      "id": "05aa58b3",
      "metadata": {
        "id": "05aa58b3"
      },
      "outputs": [],
      "source": [
        "naive_syllable_count(\"pie\") ### hmm..."
      ]
    },
    {
      "cell_type": "markdown",
      "id": "64e92a7d",
      "metadata": {
        "id": "64e92a7d"
      },
      "source": [
        "#### Calculating syllables: a modified approach\n",
        "\n",
        "- Some vowels don't contribute to the number of syllables in a word.  \n",
        "- E.g., \"e\" at the end of a word typically doesn't add a syllable."
      ]
    },
    {
      "cell_type": "code",
      "execution_count": null,
      "id": "0423ff31",
      "metadata": {
        "id": "0423ff31"
      },
      "outputs": [],
      "source": [
        "def modified_syllable_count(word):\n",
        "    word = word.lower()\n",
        "    syllable_count = 0\n",
        "    vowels = \"aeiouy\"\n",
        "    for i in word:\n",
        "        if i in vowels:\n",
        "            syllable_count += 1\n",
        "    if word.endswith(\"e\"): ### check for ending with \"e\"\n",
        "        syllable_count -= 1\n",
        "    return syllable_count"
      ]
    },
    {
      "cell_type": "code",
      "execution_count": null,
      "id": "162a1ba1",
      "metadata": {
        "id": "162a1ba1"
      },
      "outputs": [],
      "source": [
        "modified_syllable_count(\"pie\") ### better!"
      ]
    },
    {
      "cell_type": "code",
      "execution_count": null,
      "id": "d487fe9a",
      "metadata": {
        "id": "d487fe9a"
      },
      "outputs": [],
      "source": [
        "modified_syllable_count(\"friendly\") ### still overestimates..."
      ]
    },
    {
      "cell_type": "markdown",
      "id": "e15ccc15",
      "metadata": {
        "id": "e15ccc15"
      },
      "source": [
        "#### Calculating syllables: a dictionary-based approach\n",
        "\n",
        "- Ideally, we could use a **pronunciation dictionary** that tells us exactly how long each word is.  \n",
        "- `nltk` has such a dictionary!"
      ]
    },
    {
      "cell_type": "code",
      "execution_count": null,
      "id": "3fb23cef",
      "metadata": {
        "id": "3fb23cef"
      },
      "outputs": [],
      "source": [
        "import nltk\n",
        "nltk.download('cmudict')"
      ]
    },
    {
      "cell_type": "code",
      "execution_count": null,
      "id": "c15e76c8",
      "metadata": {
        "id": "c15e76c8"
      },
      "outputs": [],
      "source": [
        "### Import cmudict\n",
        "from nltk.corpus import cmudict\n",
        "d = cmudict.dict()"
      ]
    },
    {
      "cell_type": "markdown",
      "id": "cdce042d",
      "metadata": {
        "id": "cdce042d"
      },
      "source": [
        "#### The *CMU* dictionary\n",
        "\n",
        "- The **CMU Dictionary** will `return` a representation of the *phonemes* in a word.  \n",
        "  - Will also include multiple *pronunciations*.\n",
        "- Each phoneme with a *digit in its last position* (e.g., `EH1`) counts as a **vowel that contributes a syllable**."
      ]
    },
    {
      "cell_type": "code",
      "execution_count": null,
      "id": "4ae8d910",
      "metadata": {
        "id": "4ae8d910"
      },
      "outputs": [],
      "source": [
        "### Simple example\n",
        "d['pie']"
      ]
    },
    {
      "cell_type": "code",
      "execution_count": null,
      "id": "4735b33d",
      "metadata": {
        "id": "4735b33d"
      },
      "outputs": [],
      "source": [
        "### Looking at the first pronunciation of \"friendly\"\n",
        "d['friendly'][0]"
      ]
    },
    {
      "cell_type": "markdown",
      "id": "2904776b",
      "metadata": {
        "id": "2904776b"
      },
      "source": [
        "#### Putting it altogether\n",
        "\n",
        "- First, if word is in CMU:\n",
        "   - We calculate number of syllables in *first pronunciation*.\n",
        "- CMU may not have *every* word in the dictionary, so we can **fall back** on our other function."
      ]
    },
    {
      "cell_type": "code",
      "execution_count": null,
      "id": "39a3b84f",
      "metadata": {
        "id": "39a3b84f"
      },
      "outputs": [],
      "source": [
        "def estimate_syllables(word):\n",
        "    \"\"\"\n",
        "    Returns the number of syllables in a word using the CMU Pronouncing Dictionary.\n",
        "    If the word isn't found, falls back to a heuristic approach.\n",
        "    \"\"\"\n",
        "    word = word.lower()\n",
        "    vowel_count = lambda pl: len([p for p in pl if p[-1].isdigit()])\n",
        "    if word in d:\n",
        "        return vowel_count(d[word][0])\n",
        "    else:\n",
        "        # Fallback syllable counter\n",
        "        return modified_syllable_count(word)"
      ]
    },
    {
      "cell_type": "code",
      "execution_count": null,
      "id": "3e8469ed",
      "metadata": {
        "id": "3e8469ed"
      },
      "outputs": [],
      "source": [
        "estimate_syllables(\"friendly\")"
      ]
    },
    {
      "cell_type": "code",
      "execution_count": null,
      "id": "0f72154e",
      "metadata": {
        "id": "0f72154e"
      },
      "outputs": [],
      "source": [
        "estimate_syllables(\"mistake\")"
      ]
    },
    {
      "cell_type": "markdown",
      "id": "22b7c608",
      "metadata": {
        "id": "22b7c608"
      },
      "source": [
        "#### Complete Flesch-Kincaid formula\n",
        "\n",
        "- Okay, now let's create our final Flesch-Kincaid formula."
      ]
    },
    {
      "cell_type": "code",
      "execution_count": null,
      "id": "93c87733",
      "metadata": {
        "id": "93c87733"
      },
      "outputs": [],
      "source": [
        "def flesch_kincaid_grade_level(text):\n",
        "    sentences = nltk.sent_tokenize(text)\n",
        "    words = nltk.word_tokenize(text)\n",
        "    num_sentences = len(sentences)\n",
        "    num_words = len(words)\n",
        "    num_syllables = sum(estimate_syllables(word) for word in words if word.isalpha())  # only count alphabetic words to avoid punctuation\n",
        "\n",
        "    if num_words == 0 or num_sentences == 0:\n",
        "        return 0  # Avoid division by zero\n",
        "\n",
        "    grade_level = 0.39 * (num_words / num_sentences) + 11.8 * (num_syllables / num_words) - 15.59\n",
        "    return grade_level"
      ]
    },
    {
      "cell_type": "markdown",
      "id": "d2c319ba",
      "metadata": {
        "id": "d2c319ba"
      },
      "source": [
        "#### Testing our implementation (1)"
      ]
    },
    {
      "cell_type": "code",
      "execution_count": null,
      "id": "674b1fb1",
      "metadata": {
        "id": "674b1fb1"
      },
      "outputs": [],
      "source": [
        "sample_text1 = '\"The Australian platypus is seemingly a hybrid of a mammal and reptilian creature.'\n",
        "sample_text2 = \"Dogs are pretty cute and also run really fast.\""
      ]
    },
    {
      "cell_type": "code",
      "execution_count": null,
      "id": "5402ce33",
      "metadata": {
        "id": "5402ce33"
      },
      "outputs": [],
      "source": [
        "flesch_kincaid_grade_level(sample_text1)"
      ]
    },
    {
      "cell_type": "code",
      "execution_count": null,
      "id": "6a22f06f",
      "metadata": {
        "id": "6a22f06f"
      },
      "outputs": [],
      "source": [
        "flesch_kincaid_grade_level(sample_text2)"
      ]
    },
    {
      "cell_type": "markdown",
      "id": "a55211c2",
      "metadata": {
        "id": "a55211c2"
      },
      "source": [
        "#### Testing our implementation (2)\n",
        "\n",
        "- The [CLEAR Corpus](https://link.springer.com/article/10.3758/s13428-022-01802-x) contains human judgments about the readability of text excerpts.\n",
        "- It also contains estimates of Flesch-Kincaid score, etc., for those excerpts."
      ]
    },
    {
      "cell_type": "code",
      "execution_count": null,
      "id": "0f40cabf",
      "metadata": {
        "id": "0f40cabf"
      },
      "outputs": [],
      "source": [
        "import pandas as pd\n",
        "import seaborn as sns\n",
        "import scipy.stats as ss\n",
        "%matplotlib inline\n",
        "%config InlineBackend.figure_format = 'retina'"
      ]
    },
    {
      "cell_type": "code",
      "execution_count": null,
      "id": "6940a35a",
      "metadata": {
        "id": "6940a35a"
      },
      "outputs": [],
      "source": [
        "df_clear = pd.read_csv(\"data/text/CLEAR_corpus_final.csv\")\n",
        "df_clear.head(2)"
      ]
    },
    {
      "cell_type": "markdown",
      "id": "1e4a7735",
      "metadata": {
        "id": "1e4a7735"
      },
      "source": [
        "#### Check-in: estimate readability scores\n",
        "\n",
        "Use `.apply` on the `Excerpt` column to estimate the Flesch-Kincaid score for each of those excerpts."
      ]
    },
    {
      "cell_type": "code",
      "execution_count": null,
      "id": "5bbbc23f",
      "metadata": {
        "id": "5bbbc23f"
      },
      "outputs": [],
      "source": [
        "### Your code here"
      ]
    },
    {
      "cell_type": "markdown",
      "id": "58f2eca6",
      "metadata": {
        "id": "58f2eca6"
      },
      "source": [
        "#### Using `.apply`"
      ]
    },
    {
      "cell_type": "code",
      "execution_count": null,
      "id": "ced99ab2",
      "metadata": {
        "id": "ced99ab2"
      },
      "outputs": [],
      "source": [
        "df_clear['fk_estimate'] = df_clear['Excerpt'].apply(lambda x: flesch_kincaid_grade_level(x))"
      ]
    },
    {
      "cell_type": "markdown",
      "id": "c3d309af",
      "metadata": {
        "id": "c3d309af"
      },
      "source": [
        "#### Checking our work\n",
        "\n",
        "- We see a pretty good correlation with the ground truth.  \n",
        "- Divergences are probably due to different ways of counting punctuation, etc."
      ]
    },
    {
      "cell_type": "code",
      "execution_count": null,
      "id": "02560272",
      "metadata": {
        "id": "02560272"
      },
      "outputs": [],
      "source": [
        "ss.pearsonr(df_clear['Flesch-Kincaid-Grade-Level'], df_clear['fk_estimate'])"
      ]
    },
    {
      "cell_type": "code",
      "execution_count": null,
      "id": "714c8910",
      "metadata": {
        "id": "714c8910"
      },
      "outputs": [],
      "source": [
        "sns.scatterplot(data = df_clear,\n",
        "                x = \"Flesch-Kincaid-Grade-Level\",\n",
        "               y = \"fk_estimate\", alpha = .5)"
      ]
    },
    {
      "cell_type": "markdown",
      "id": "cbb12442",
      "metadata": {
        "id": "cbb12442"
      },
      "source": [
        "#### Does it predict *actual* readability?\n",
        "\n",
        "- Correlated, but not *amazingly*, with human judgments of readability."
      ]
    },
    {
      "cell_type": "code",
      "execution_count": null,
      "id": "bf8d1915",
      "metadata": {
        "id": "bf8d1915"
      },
      "outputs": [],
      "source": [
        "ss.pearsonr(df_clear['BT_easiness'], df_clear['fk_estimate'])"
      ]
    },
    {
      "cell_type": "code",
      "execution_count": null,
      "id": "9987eae8",
      "metadata": {
        "id": "9987eae8"
      },
      "outputs": [],
      "source": [
        "sns.scatterplot(data = df_clear,\n",
        "                x = \"fk_estimate\",\n",
        "               y = \"BT_easiness\", alpha = .5)"
      ]
    },
    {
      "cell_type": "markdown",
      "id": "35aa5eb8",
      "metadata": {
        "id": "35aa5eb8"
      },
      "source": [
        "### Other formulas\n",
        "\n",
        "- Flesch-Kincaid is just *one* approach among many.  \n",
        "- Other [popular formulas](https://en.wikipedia.org/wiki/Readability#Popular_Readability_Formulas) rely on similar dimensions:\n",
        "   - Average sentence length.  \n",
        "   - Average word length.\n",
        "\n",
        "What else might you want to consider?"
      ]
    },
    {
      "cell_type": "markdown",
      "id": "749c890d",
      "metadata": {
        "id": "749c890d"
      },
      "source": [
        "## Beyond simple formulas\n",
        "\n",
        "- Advanced readability formulas also incorporate **psycholinguistic variables**.  \n",
        "  - Frequency, concreteness, age of acquisition.\n",
        "- Modern approaches also rely on **Large Language Models (LLMs)**.\n",
        "  - E.g., [my attempt with GPT-4 Turbo](https://seantrott.substack.com/p/measuring-the-readability-of-texts).\n",
        "- Remains a *complex construct*: always remember it is dependent on audience and context."
      ]
    }
  ],
  "metadata": {
    "celltoolbar": "Slideshow",
    "kernelspec": {
      "display_name": "Python 3 (ipykernel)",
      "language": "python",
      "name": "python3"
    },
    "language_info": {
      "codemirror_mode": {
        "name": "ipython",
        "version": 3
      },
      "file_extension": ".py",
      "mimetype": "text/x-python",
      "name": "python",
      "nbconvert_exporter": "python",
      "pygments_lexer": "ipython3",
      "version": "3.11.0"
    },
    "colab": {
      "provenance": []
    }
  },
  "nbformat": 4,
  "nbformat_minor": 5
}