{
 "cells": [
  {
   "cell_type": "markdown",
   "id": "14e55662",
   "metadata": {
    "slideshow": {
     "slide_type": "slide"
    }
   },
   "source": [
    "# Tree-based ensemble methods"
   ]
  },
  {
   "cell_type": "markdown",
   "id": "ccdc4404",
   "metadata": {
    "slideshow": {
     "slide_type": "slide"
    }
   },
   "source": [
    "## Lecture plan\n",
    "\n",
    "- Review: decision trees and their limitations.  \n",
    "- Key innovations:\n",
    "   - Bagging\n",
    "   - Boosting\n",
    "   - Random forests\n",
    "- Random forests in `sklearn`. \n",
    "- Why do ensembles work so well?"
   ]
  },
  {
   "cell_type": "markdown",
   "id": "ebffdc61",
   "metadata": {
    "slideshow": {
     "slide_type": "slide"
    }
   },
   "source": [
    "### Load libraries"
   ]
  },
  {
   "cell_type": "code",
   "execution_count": 1,
   "id": "0057fbd4",
   "metadata": {
    "slideshow": {
     "slide_type": "-"
    }
   },
   "outputs": [],
   "source": [
    "import pandas as pd\n",
    "import numpy as np\n",
    "import seaborn as sns\n",
    "import matplotlib.pyplot as plt\n",
    "\n",
    "%matplotlib inline\n",
    "%config InlineBackend.figure_format = 'retina'  # makes figs nicer!"
   ]
  },
  {
   "cell_type": "markdown",
   "id": "01a2bb82",
   "metadata": {
    "slideshow": {
     "slide_type": "slide"
    }
   },
   "source": [
    "## Review: decision trees\n",
    "\n",
    "> In a **decision tree**, the feature space is *split recursively* into different \"regions\", which can be used to make predictions about $Y$.  \n",
    "\n",
    "*Check-in: What were some of the main advantages and disadvantages of trees?*"
   ]
  },
  {
   "cell_type": "markdown",
   "id": "4419a7ad",
   "metadata": {
    "slideshow": {
     "slide_type": "slide"
    }
   },
   "source": [
    "### Advantages and disadvantages\n",
    "\n",
    "- Trees have some **benefits**:\n",
    "   - Very easy to explain to people.  \n",
    "   - Seem to mirror human decision-making.  \n",
    "   - Can be displayed graphically.\n",
    "- But also have some big **limitations**:\n",
    "   - Prone to overfitting.  \n",
    "   - Very *non-robust*.\n",
    "\n",
    "But with some modifications, we can greatly improve the performance of tree-based approaches."
   ]
  },
  {
   "cell_type": "markdown",
   "id": "988bc633",
   "metadata": {
    "slideshow": {
     "slide_type": "slide"
    }
   },
   "source": [
    "## Innovations with *ensembles*\n",
    "\n",
    "In this section, we'll briefly discuss several **innovations** that improve the performance of **tree-based approaches**.  \n",
    "\n",
    "- Bagging.\n",
    "- Boosting.\n",
    "- Random forests.\n",
    "\n",
    "These are all examples of **ensemble learning**, in which various *weak learners* are combined to make better predictions."
   ]
  },
  {
   "cell_type": "markdown",
   "id": "199e0968",
   "metadata": {
    "slideshow": {
     "slide_type": "slide"
    }
   },
   "source": [
    "### \"Bagging\" (bootstrap aggregation)\n",
    "\n",
    "> In **bagging** (or *bootstrap aggregation*), multiple models are fit on different *samples* of the same dataset, increasing robustness.\n",
    "\n",
    "- Traditional decision trees suffer from **high variance**.\n",
    "   - I.e., their *fit* depends a lot on which part of the dataset they are fit to.\n",
    "- Bagging *reduces variance*: fit many times, will get similar results.  \n",
    "- Based on the **bootstrap**."
   ]
  },
  {
   "cell_type": "markdown",
   "id": "c6bae408",
   "metadata": {
    "slideshow": {
     "slide_type": "slide"
    }
   },
   "source": [
    "#### Review: bootstrapping, explained \n",
    "\n",
    "**Basic premise**: \n",
    "\n",
    "- Taking many *samples* of size $n$ (with **replacement**) from our existing dataset...\n",
    "- ...calculating some sample statistic (e.g., the `mean` for each one)...\n",
    "- ...will give us an estimate of the *range* of sample statistics we'd expect...\n",
    "- ...given samples of the same size and distribution shape. \n",
    "\n",
    "By **sampling with replacement**, we can mimic the process of taking multiple samples from our population."
   ]
  },
  {
   "cell_type": "markdown",
   "id": "267dbf53",
   "metadata": {
    "slideshow": {
     "slide_type": "slide"
    }
   },
   "source": [
    "#### Connecting bootstrapping to bagging\n",
    "\n",
    "**Bagging** follows the same principle as bootstrapping:\n",
    "\n",
    "- Take $B$ samples or \"training sets\". \n",
    "- Build a separate prediction model $\\hat{f}_b$ for each sample $b$. \n",
    "- To generate **predictions**, we take the *average* of each of these models.\n",
    "\n",
    "$$\\Large \\hat{f}_{bag}(x) = \\frac{1}{B}\\sum_{b=1}^B\\hat{f}_b(x)$$"
   ]
  },
  {
   "cell_type": "markdown",
   "id": "c09ad07c",
   "metadata": {
    "slideshow": {
     "slide_type": "slide"
    }
   },
   "source": [
    "#### Bagging: basic guidelines\n",
    "\n",
    "- With bagging, we don't need to *prune* our trees.  \n",
    "  - Instead, we let them grow wildly!\n",
    "- For each tree, we consider *all* our predictors.\n",
    "- By **averaging our predictions** across many trees, we naturally reduce the variance.  \n",
    "- The average prediction tends to be much better than any given tree.\n",
    "  - This is a key insight of **ensemble learning**. "
   ]
  },
  {
   "cell_type": "markdown",
   "id": "ce7f3581",
   "metadata": {
    "slideshow": {
     "slide_type": "slide"
    }
   },
   "source": [
    "#### Bagging and *feature importances*\n",
    "\n",
    "- With bagging, we can no longer represent our model with a *single tree*. \n",
    "   - Less *interpretable* than a traditional decision tree.\n",
    "- However, we can calculate **feature importances**.\n",
    "\n",
    "> The **importance of a feature** is calculated by considering the *total amount* that the Gini index or entropy is decreased by splits over a given predictor, averaged over all $B$ trees.\n",
    "\n",
    "- Basic intuition: more important features will result, on average, in larger reductions in entropy between pre/post split. "
   ]
  },
  {
   "cell_type": "markdown",
   "id": "96262cdf",
   "metadata": {
    "slideshow": {
     "slide_type": "slide"
    }
   },
   "source": [
    "### Random forests\n",
    "\n",
    "> **Random forests** improve upon both decision trees and bagging by considering not just a random *sample* of the data, but a random *subset* of predictors, for each tree.\n",
    "\n",
    "- \"Forest\" = lots of individual trees.\n",
    "   - Like bagging, random forests are **ensemble learners**.  \n",
    "- \"Random\" = the *data* and *features* are randomly sampled across trees."
   ]
  },
  {
   "cell_type": "markdown",
   "id": "fc8e5691",
   "metadata": {
    "slideshow": {
     "slide_type": "slide"
    }
   },
   "source": [
    "#### Bagging vs. random forests\n",
    "\n",
    "- Like bagging, random forests use **sampling with replacement**.  \n",
    "  - Fit many different models on different *samples*.\n",
    "- Unlike bagging, random forests also use a random subset of **predictors**.  \n",
    "  - For any given split, may only use $m$ predictors.\n",
    "  - Typically, we set $m = \\sqrt{p}$, i.e., no more than the square root of the total number of predictors.\n",
    "  - Note: If $m = p$, then random forest = bagging.\n",
    "  \n",
    "Why might this improve over both bagging and decision trees?"
   ]
  },
  {
   "cell_type": "markdown",
   "id": "366e99ef",
   "metadata": {
    "slideshow": {
     "slide_type": "slide"
    }
   },
   "source": [
    "#### The logic of random predictors\n",
    "\n",
    "- We've already established that **random sampling with replacement** improves robustness.  \n",
    "- But taking **random subsets of features** also helps fit even better models!\n",
    "- Basic logic:\n",
    "   - If there's one really strong predictor, then most *bagged trees* will end up relying on that one.\n",
    "   - Thus, with bagging, our trees are all highly *correlated*.\n",
    "   - By considering random subsets of predictors, random forests **decorrelate** our trees.\n",
    "   - This **reduces overfitting** and **increases robustness**. "
   ]
  },
  {
   "cell_type": "markdown",
   "id": "5a5781e3",
   "metadata": {
    "slideshow": {
     "slide_type": "slide"
    }
   },
   "source": [
    "### Boosting\n",
    "\n",
    "> **Boosting** is another approach, which grows trees *sequentially* (rather than in parallel, like with bagging or random forests).\n",
    "\n",
    "- **Basic intuition**: by fitting trees sequentially on the *residuals* of past trees, we iteratively improve model.  \n",
    "- I.e., \"learn from past mistakes\". "
   ]
  },
  {
   "cell_type": "markdown",
   "id": "0a0b58d0",
   "metadata": {
    "slideshow": {
     "slide_type": "slide"
    }
   },
   "source": [
    "#### Boosting vs. bagging\n",
    "\n",
    "- Like bagging, we end up fitting *many trees*.  \n",
    "- Unlike bagging, we don't use *samplingw ith replacement* for each tree.  \n",
    "- Instead, each tree is fit to *modified versions* of the original dataset.\n",
    "   - Where \"modified\" = **residuals** from a previous tree.\n",
    "   - We control this process using a shrinkage parameter $\\lamda$. \n",
    "- Each new tree can be quite small. \n",
    "- Marginal improvements are also small, but overall tends to perform well."
   ]
  },
  {
   "cell_type": "markdown",
   "id": "779a4ebe",
   "metadata": {
    "slideshow": {
     "slide_type": "slide"
    }
   },
   "source": [
    "#### Boosting algorithm\n",
    "\n",
    "**Algorithm:** Start with a null model ($\\hat{f}(x) = 0$), the residual equals to $r_i = y_i$, and a number $B$ of steps.\n",
    "\n",
    "For each $b \\in \\{1, 2, \\cdots, B\\}$:\n",
    "\n",
    "1. Fit a tree $\\hat{f}^b(x)$ with $d$ splits (or d+1 terminal nodes).\n",
    "\n",
    "2. Set:\n",
    "\n",
    "$$ \\hat{f}_{new}(x) = \\hat{f}_{old}(x) + \\lambda \\hat{f}^b(x) $$\n",
    "\n",
    "3. Set \n",
    "\n",
    "$$ r_{i_{new}} = r_{i_{old}} - \\lambda \\hat{f}^b(x) $$\n",
    "\n",
    "At the end, you should define $\\hat{f}(x)$ as:\n",
    "\n",
    "$$ \\hat{f}(x) = \\sum_{b=1}^B \\lambda \\hat{f}^b(x) $$"
   ]
  },
  {
   "cell_type": "markdown",
   "id": "e64725ba",
   "metadata": {
    "slideshow": {
     "slide_type": "slide"
    }
   },
   "source": [
    "### Tree-based methods: a comparison\n",
    "\n",
    "|Aspect|Decision trees|Bagging|Random forests|Boosting|\n",
    "|------|--------------|-------|--------------|-------|\n",
    "|Number of trees fit|1|$>1$|$>1$|$>1$|\n",
    "|Data considered per tree|All|Random sample (with replacement)|Random sample (with replacement)|All (modified via residuals)|\n",
    "|Features considered per tree|All|All|Random subset $m$|All|\n",
    "|Properties|Prone to overfitting, non-robust|Lower variance, though trees are all correlated.|Lower variance, and decorrelates trees.|Lowers bias and variance.|"
   ]
  },
  {
   "cell_type": "markdown",
   "id": "28d5bff2",
   "metadata": {
    "slideshow": {
     "slide_type": "slide"
    }
   },
   "source": [
    "## Random forests in practice\n",
    "\n",
    "- In this section, we'll discuss how to use and interpret these models in `sklearn`.  \n",
    "- We'll focus on `RandomForestClassifier`, but will also discuss the other models.\n"
   ]
  },
  {
   "cell_type": "markdown",
   "id": "63fa5c9e",
   "metadata": {},
   "source": [
    "### The `RandomForestClassifier`\n",
    "\n",
    "The `RandomForestClassifier` class has several relevant parameters, including.\n",
    "\n",
    "- `n_estimators`: number of trees in the forest.  \n",
    "- `max_depth`: maximum depth of each tree. \n",
    "- `max_features`: number of features to consider for each split (e.g., `\"sqrt\"`). \n",
    "\n",
    "As with most `sklearn` models, uses the `.fit` and `.predict` syntax."
   ]
  },
  {
   "cell_type": "code",
   "execution_count": 2,
   "id": "6715dccc",
   "metadata": {
    "slideshow": {
     "slide_type": "-"
    }
   },
   "outputs": [],
   "source": [
    "from sklearn.ensemble import RandomForestClassifier"
   ]
  },
  {
   "cell_type": "markdown",
   "id": "4039b3b3",
   "metadata": {
    "slideshow": {
     "slide_type": "slide"
    }
   },
   "source": [
    "#### A working dataset\n",
    "\n",
    "- For now, we'll load the `heart.csv` dataset.  \n",
    "- Contains predictors that may or may not be related to heart disease."
   ]
  },
  {
   "cell_type": "code",
   "execution_count": 3,
   "id": "754e4831",
   "metadata": {
    "slideshow": {
     "slide_type": "-"
    }
   },
   "outputs": [
    {
     "data": {
      "text/html": [
       "<div>\n",
       "<style scoped>\n",
       "    .dataframe tbody tr th:only-of-type {\n",
       "        vertical-align: middle;\n",
       "    }\n",
       "\n",
       "    .dataframe tbody tr th {\n",
       "        vertical-align: top;\n",
       "    }\n",
       "\n",
       "    .dataframe thead th {\n",
       "        text-align: right;\n",
       "    }\n",
       "</style>\n",
       "<table border=\"1\" class=\"dataframe\">\n",
       "  <thead>\n",
       "    <tr style=\"text-align: right;\">\n",
       "      <th></th>\n",
       "      <th>Unnamed: 0</th>\n",
       "      <th>Age</th>\n",
       "      <th>Sex</th>\n",
       "      <th>ChestPain</th>\n",
       "      <th>RestBP</th>\n",
       "      <th>Chol</th>\n",
       "      <th>Fbs</th>\n",
       "      <th>RestECG</th>\n",
       "      <th>MaxHR</th>\n",
       "      <th>ExAng</th>\n",
       "      <th>Oldpeak</th>\n",
       "      <th>Slope</th>\n",
       "      <th>Ca</th>\n",
       "      <th>Thal</th>\n",
       "      <th>AHD</th>\n",
       "    </tr>\n",
       "  </thead>\n",
       "  <tbody>\n",
       "    <tr>\n",
       "      <th>0</th>\n",
       "      <td>1</td>\n",
       "      <td>63</td>\n",
       "      <td>1</td>\n",
       "      <td>typical</td>\n",
       "      <td>145</td>\n",
       "      <td>233</td>\n",
       "      <td>1</td>\n",
       "      <td>2</td>\n",
       "      <td>150</td>\n",
       "      <td>0</td>\n",
       "      <td>2.3</td>\n",
       "      <td>3</td>\n",
       "      <td>0.0</td>\n",
       "      <td>fixed</td>\n",
       "      <td>No</td>\n",
       "    </tr>\n",
       "    <tr>\n",
       "      <th>1</th>\n",
       "      <td>2</td>\n",
       "      <td>67</td>\n",
       "      <td>1</td>\n",
       "      <td>asymptomatic</td>\n",
       "      <td>160</td>\n",
       "      <td>286</td>\n",
       "      <td>0</td>\n",
       "      <td>2</td>\n",
       "      <td>108</td>\n",
       "      <td>1</td>\n",
       "      <td>1.5</td>\n",
       "      <td>2</td>\n",
       "      <td>3.0</td>\n",
       "      <td>normal</td>\n",
       "      <td>Yes</td>\n",
       "    </tr>\n",
       "    <tr>\n",
       "      <th>2</th>\n",
       "      <td>3</td>\n",
       "      <td>67</td>\n",
       "      <td>1</td>\n",
       "      <td>asymptomatic</td>\n",
       "      <td>120</td>\n",
       "      <td>229</td>\n",
       "      <td>0</td>\n",
       "      <td>2</td>\n",
       "      <td>129</td>\n",
       "      <td>1</td>\n",
       "      <td>2.6</td>\n",
       "      <td>2</td>\n",
       "      <td>2.0</td>\n",
       "      <td>reversable</td>\n",
       "      <td>Yes</td>\n",
       "    </tr>\n",
       "  </tbody>\n",
       "</table>\n",
       "</div>"
      ],
      "text/plain": [
       "   Unnamed: 0  Age  Sex     ChestPain  RestBP  Chol  Fbs  RestECG  MaxHR  \\\n",
       "0           1   63    1       typical     145   233    1        2    150   \n",
       "1           2   67    1  asymptomatic     160   286    0        2    108   \n",
       "2           3   67    1  asymptomatic     120   229    0        2    129   \n",
       "\n",
       "   ExAng  Oldpeak  Slope   Ca        Thal  AHD  \n",
       "0      0      2.3      3  0.0       fixed   No  \n",
       "1      1      1.5      2  3.0      normal  Yes  \n",
       "2      1      2.6      2  2.0  reversable  Yes  "
      ]
     },
     "execution_count": 3,
     "metadata": {},
     "output_type": "execute_result"
    }
   ],
   "source": [
    "df_heart = pd.read_csv(\"data/classification/heart.csv\")\n",
    "df_heart.head(3)"
   ]
  },
  {
   "cell_type": "markdown",
   "id": "70454d6d",
   "metadata": {
    "slideshow": {
     "slide_type": "slide"
    }
   },
   "source": [
    "#### Extracting features\n",
    "\n",
    "Let's start with some potentially relevant features:\n",
    "\n",
    "- `MaxHR`: maximum heart rate\n",
    "- `Chol`: cholesterol levels. \n",
    "- `Sex`.\n",
    "- `Age`.\n",
    "- `RestECG`: resting ECG results.  \n",
    "- `ExAng`: whether they have an exercise-induced angina (chest pain).  \n",
    "- `Thal`: Thallium stress test (measure of blood flowing into heart)."
   ]
  },
  {
   "cell_type": "code",
   "execution_count": 4,
   "id": "e2339195",
   "metadata": {
    "slideshow": {
     "slide_type": "-"
    }
   },
   "outputs": [],
   "source": [
    "### Relevant features\n",
    "X = df_heart[['MaxHR', 'Chol', 'Sex', 'Age', 'RestECG', 'ExAng', 'Thal']]\n",
    "y = df_heart['AHD'].values"
   ]
  },
  {
   "cell_type": "markdown",
   "id": "d695d8bf",
   "metadata": {
    "slideshow": {
     "slide_type": "slide"
    }
   },
   "source": [
    "#### Transforming features\n",
    "\n",
    "- Note that `Thal` is a **categorical** feature, which means we must transform it with `OneHotEncoder`.  \n",
    "- `sklearn` has some handy functions to simplify this for us."
   ]
  },
  {
   "cell_type": "code",
   "execution_count": 5,
   "id": "3f923bc6",
   "metadata": {
    "slideshow": {
     "slide_type": "-"
    }
   },
   "outputs": [],
   "source": [
    "from sklearn.compose import ColumnTransformer\n",
    "from sklearn.preprocessing import OneHotEncoder"
   ]
  },
  {
   "cell_type": "code",
   "execution_count": 9,
   "id": "03294ef0",
   "metadata": {
    "slideshow": {
     "slide_type": "-"
    }
   },
   "outputs": [],
   "source": [
    "# Define which columns should be encoded vs. which remain untouched\n",
    "column_transformer = ColumnTransformer(\n",
    "    transformers=[\n",
    "        ('cat', OneHotEncoder(sparse_output=False), ['Thal']),\n",
    "        ('num', 'passthrough', ['MaxHR', 'Chol', 'Age','Sex', 'RestECG', 'ExAng'])\n",
    "    ]\n",
    ")"
   ]
  },
  {
   "cell_type": "code",
   "execution_count": 10,
   "id": "fd895349",
   "metadata": {
    "scrolled": true,
    "slideshow": {
     "slide_type": "-"
    }
   },
   "outputs": [
    {
     "data": {
      "text/plain": [
       "(303, 10)"
      ]
     },
     "execution_count": 10,
     "metadata": {},
     "output_type": "execute_result"
    }
   ],
   "source": [
    "X_transformed = column_transformer.fit_transform(X)\n",
    "X_transformed.shape"
   ]
  },
  {
   "cell_type": "markdown",
   "id": "ab7660af",
   "metadata": {
    "slideshow": {
     "slide_type": "slide"
    }
   },
   "source": [
    "#### Using `train_test_split`"
   ]
  },
  {
   "cell_type": "code",
   "execution_count": 31,
   "id": "32d1cc12",
   "metadata": {
    "slideshow": {
     "slide_type": "-"
    }
   },
   "outputs": [],
   "source": [
    "from sklearn.model_selection import train_test_split\n",
    "from sklearn.metrics import accuracy_score"
   ]
  },
  {
   "cell_type": "code",
   "execution_count": 27,
   "id": "a15ed577",
   "metadata": {
    "slideshow": {
     "slide_type": "-"
    }
   },
   "outputs": [],
   "source": [
    "X_train, X_test, y_train, y_test = train_test_split(\n",
    "    X_transformed, y, test_size=0.33, random_state=42)"
   ]
  },
  {
   "cell_type": "code",
   "execution_count": 34,
   "id": "8353a00e",
   "metadata": {
    "slideshow": {
     "slide_type": "-"
    }
   },
   "outputs": [],
   "source": [
    "clf = RandomForestClassifier(max_features=\"sqrt\") "
   ]
  },
  {
   "cell_type": "code",
   "execution_count": 35,
   "id": "e489053d",
   "metadata": {
    "slideshow": {
     "slide_type": "-"
    }
   },
   "outputs": [
    {
     "data": {
      "text/html": [
       "<style>#sk-container-id-4 {color: black;}#sk-container-id-4 pre{padding: 0;}#sk-container-id-4 div.sk-toggleable {background-color: white;}#sk-container-id-4 label.sk-toggleable__label {cursor: pointer;display: block;width: 100%;margin-bottom: 0;padding: 0.3em;box-sizing: border-box;text-align: center;}#sk-container-id-4 label.sk-toggleable__label-arrow:before {content: \"▸\";float: left;margin-right: 0.25em;color: #696969;}#sk-container-id-4 label.sk-toggleable__label-arrow:hover:before {color: black;}#sk-container-id-4 div.sk-estimator:hover label.sk-toggleable__label-arrow:before {color: black;}#sk-container-id-4 div.sk-toggleable__content {max-height: 0;max-width: 0;overflow: hidden;text-align: left;background-color: #f0f8ff;}#sk-container-id-4 div.sk-toggleable__content pre {margin: 0.2em;color: black;border-radius: 0.25em;background-color: #f0f8ff;}#sk-container-id-4 input.sk-toggleable__control:checked~div.sk-toggleable__content {max-height: 200px;max-width: 100%;overflow: auto;}#sk-container-id-4 input.sk-toggleable__control:checked~label.sk-toggleable__label-arrow:before {content: \"▾\";}#sk-container-id-4 div.sk-estimator input.sk-toggleable__control:checked~label.sk-toggleable__label {background-color: #d4ebff;}#sk-container-id-4 div.sk-label input.sk-toggleable__control:checked~label.sk-toggleable__label {background-color: #d4ebff;}#sk-container-id-4 input.sk-hidden--visually {border: 0;clip: rect(1px 1px 1px 1px);clip: rect(1px, 1px, 1px, 1px);height: 1px;margin: -1px;overflow: hidden;padding: 0;position: absolute;width: 1px;}#sk-container-id-4 div.sk-estimator {font-family: monospace;background-color: #f0f8ff;border: 1px dotted black;border-radius: 0.25em;box-sizing: border-box;margin-bottom: 0.5em;}#sk-container-id-4 div.sk-estimator:hover {background-color: #d4ebff;}#sk-container-id-4 div.sk-parallel-item::after {content: \"\";width: 100%;border-bottom: 1px solid gray;flex-grow: 1;}#sk-container-id-4 div.sk-label:hover label.sk-toggleable__label {background-color: #d4ebff;}#sk-container-id-4 div.sk-serial::before {content: \"\";position: absolute;border-left: 1px solid gray;box-sizing: border-box;top: 0;bottom: 0;left: 50%;z-index: 0;}#sk-container-id-4 div.sk-serial {display: flex;flex-direction: column;align-items: center;background-color: white;padding-right: 0.2em;padding-left: 0.2em;position: relative;}#sk-container-id-4 div.sk-item {position: relative;z-index: 1;}#sk-container-id-4 div.sk-parallel {display: flex;align-items: stretch;justify-content: center;background-color: white;position: relative;}#sk-container-id-4 div.sk-item::before, #sk-container-id-4 div.sk-parallel-item::before {content: \"\";position: absolute;border-left: 1px solid gray;box-sizing: border-box;top: 0;bottom: 0;left: 50%;z-index: -1;}#sk-container-id-4 div.sk-parallel-item {display: flex;flex-direction: column;z-index: 1;position: relative;background-color: white;}#sk-container-id-4 div.sk-parallel-item:first-child::after {align-self: flex-end;width: 50%;}#sk-container-id-4 div.sk-parallel-item:last-child::after {align-self: flex-start;width: 50%;}#sk-container-id-4 div.sk-parallel-item:only-child::after {width: 0;}#sk-container-id-4 div.sk-dashed-wrapped {border: 1px dashed gray;margin: 0 0.4em 0.5em 0.4em;box-sizing: border-box;padding-bottom: 0.4em;background-color: white;}#sk-container-id-4 div.sk-label label {font-family: monospace;font-weight: bold;display: inline-block;line-height: 1.2em;}#sk-container-id-4 div.sk-label-container {text-align: center;}#sk-container-id-4 div.sk-container {/* jupyter's `normalize.less` sets `[hidden] { display: none; }` but bootstrap.min.css set `[hidden] { display: none !important; }` so we also need the `!important` here to be able to override the default hidden behavior on the sphinx rendered scikit-learn.org. See: https://github.com/scikit-learn/scikit-learn/issues/21755 */display: inline-block !important;position: relative;}#sk-container-id-4 div.sk-text-repr-fallback {display: none;}</style><div id=\"sk-container-id-4\" class=\"sk-top-container\"><div class=\"sk-text-repr-fallback\"><pre>RandomForestClassifier()</pre><b>In a Jupyter environment, please rerun this cell to show the HTML representation or trust the notebook. <br />On GitHub, the HTML representation is unable to render, please try loading this page with nbviewer.org.</b></div><div class=\"sk-container\" hidden><div class=\"sk-item\"><div class=\"sk-estimator sk-toggleable\"><input class=\"sk-toggleable__control sk-hidden--visually\" id=\"sk-estimator-id-4\" type=\"checkbox\" checked><label for=\"sk-estimator-id-4\" class=\"sk-toggleable__label sk-toggleable__label-arrow\">RandomForestClassifier</label><div class=\"sk-toggleable__content\"><pre>RandomForestClassifier()</pre></div></div></div></div></div>"
      ],
      "text/plain": [
       "RandomForestClassifier()"
      ]
     },
     "execution_count": 35,
     "metadata": {},
     "output_type": "execute_result"
    }
   ],
   "source": [
    "### Fit on train set\n",
    "clf.fit(X_train, y_train)"
   ]
  },
  {
   "cell_type": "markdown",
   "id": "94640399",
   "metadata": {
    "slideshow": {
     "slide_type": "slide"
    }
   },
   "source": [
    "#### Evaluating model!"
   ]
  },
  {
   "cell_type": "code",
   "execution_count": 36,
   "id": "ef5cf422",
   "metadata": {},
   "outputs": [],
   "source": [
    "from sklearn.metrics import precision_score, recall_score, accuracy_score"
   ]
  },
  {
   "cell_type": "code",
   "execution_count": 37,
   "id": "d8dd5416",
   "metadata": {
    "slideshow": {
     "slide_type": "-"
    }
   },
   "outputs": [
    {
     "data": {
      "text/plain": [
       "1.0"
      ]
     },
     "execution_count": 37,
     "metadata": {},
     "output_type": "execute_result"
    }
   ],
   "source": [
    "### 100% accuracy on train set!\n",
    "y_pred_train = clf.predict(X_train)\n",
    "accuracy_score(y_train, y_pred_train)"
   ]
  },
  {
   "cell_type": "code",
   "execution_count": 39,
   "id": "261ce23c",
   "metadata": {
    "slideshow": {
     "slide_type": "-"
    }
   },
   "outputs": [
    {
     "data": {
      "text/plain": [
       "0.78"
      ]
     },
     "execution_count": 39,
     "metadata": {},
     "output_type": "execute_result"
    }
   ],
   "source": [
    "### 78% on test\n",
    "y_pred_test = clf.predict(X_test)\n",
    "accuracy_score(y_test, y_pred_test)"
   ]
  },
  {
   "cell_type": "markdown",
   "id": "3a7c5ad8",
   "metadata": {
    "slideshow": {
     "slide_type": "slide"
    }
   },
   "source": [
    "#### Using `confusion_matrix`"
   ]
  },
  {
   "cell_type": "code",
   "execution_count": 40,
   "id": "6ae57b09",
   "metadata": {
    "slideshow": {
     "slide_type": "-"
    }
   },
   "outputs": [],
   "source": [
    "from sklearn.metrics import confusion_matrix"
   ]
  },
  {
   "cell_type": "code",
   "execution_count": 48,
   "id": "947c5be5",
   "metadata": {
    "slideshow": {
     "slide_type": "-"
    }
   },
   "outputs": [
    {
     "data": {
      "text/plain": [
       "<Axes: >"
      ]
     },
     "execution_count": 48,
     "metadata": {},
     "output_type": "execute_result"
    },
    {
     "data": {
      "image/png": "[encoded data removed]",
      "text/plain": [
       "<Figure size 640x480 with 2 Axes>"
      ]
     },
     "metadata": {
      "image/png": {
       "height": 413,
       "width": 511
      }
     },
     "output_type": "display_data"
    }
   ],
   "source": [
    "cm = confusion_matrix(y_test, y_pred_test)\n",
    "sns.heatmap(cm, annot=True)"
   ]
  },
  {
   "cell_type": "markdown",
   "id": "7aa5191e",
   "metadata": {
    "slideshow": {
     "slide_type": "slide"
    }
   },
   "source": [
    "#### Inspecting `feature_importances`\n",
    "\n",
    "- A `RandomForestClassifier` model doesn't have **coefficients** per se.  \n",
    "- But it does have `feature_importances`."
   ]
  },
  {
   "cell_type": "code",
   "execution_count": 49,
   "id": "43a1b736",
   "metadata": {
    "slideshow": {
     "slide_type": "-"
    }
   },
   "outputs": [
    {
     "data": {
      "text/plain": [
       "array([0.00766716, 0.11654061, 0.08314595, 0.00604433, 0.24843223,\n",
       "       0.17509324, 0.17925381, 0.05455096, 0.02967072, 0.099601  ])"
      ]
     },
     "execution_count": 49,
     "metadata": {},
     "output_type": "execute_result"
    }
   ],
   "source": [
    "fts = clf.feature_importances_\n",
    "fts"
   ]
  },
  {
   "cell_type": "markdown",
   "id": "cd163ace",
   "metadata": {
    "slideshow": {
     "slide_type": "slide"
    }
   },
   "source": [
    "#### Visualizing `feature_importances`"
   ]
  },
  {
   "cell_type": "code",
   "execution_count": 56,
   "id": "cedb2830",
   "metadata": {
    "slideshow": {
     "slide_type": "-"
    }
   },
   "outputs": [],
   "source": [
    "df_features = pd.DataFrame({'feature_importance': fts,\n",
    "                           'feature_name': column_transformer.get_feature_names_out()})\n",
    "df_features = df_features.sort_values(\"feature_importance\")"
   ]
  },
  {
   "cell_type": "code",
   "execution_count": 57,
   "id": "fc7727fd",
   "metadata": {
    "slideshow": {
     "slide_type": "-"
    }
   },
   "outputs": [
    {
     "data": {
      "text/plain": [
       "<Axes: xlabel='feature_importance', ylabel='feature_name'>"
      ]
     },
     "execution_count": 57,
     "metadata": {},
     "output_type": "execute_result"
    },
    {
     "data": {
      "image/png": "[encoded data removed]",
      "text/plain": [
       "<Figure size 640x480 with 1 Axes>"
      ]
     },
     "metadata": {
      "image/png": {
       "height": 433,
       "width": 691
      }
     },
     "output_type": "display_data"
    }
   ],
   "source": [
    "sns.barplot(data = df_features, y = \"feature_name\",\n",
    "           x = \"feature_importance\")"
   ]
  },
  {
   "cell_type": "markdown",
   "id": "0b09a1e5",
   "metadata": {
    "slideshow": {
     "slide_type": "slide"
    }
   },
   "source": [
    "### The other models we've discussed"
   ]
  },
  {
   "cell_type": "code",
   "execution_count": 58,
   "id": "711fdb53",
   "metadata": {
    "slideshow": {
     "slide_type": "-"
    }
   },
   "outputs": [],
   "source": [
    "### Bagging classifier\n",
    "from sklearn.ensemble import BaggingClassifier"
   ]
  },
  {
   "cell_type": "code",
   "execution_count": 61,
   "id": "447b99c6",
   "metadata": {
    "slideshow": {
     "slide_type": "-"
    }
   },
   "outputs": [],
   "source": [
    "### Boosting classifiers\n",
    "from sklearn.ensemble import GradientBoostingClassifier"
   ]
  },
  {
   "cell_type": "markdown",
   "id": "15c6dc8c",
   "metadata": {
    "slideshow": {
     "slide_type": "slide"
    }
   },
   "source": [
    "## Why do ensembles work so well?\n",
    "\n",
    "- All of these approaches involve **ensemble learning**. \n",
    "- In general, *ensembles* tend to out-perform individual learners.  \n",
    "   - **Diversity among models** improves robustness, reduces variance.  \n",
    "   - Tends to **reduce overfitting**.  \n",
    "- Connects to [wisdom of the crowd](https://en.wikipedia.org/wiki/Wisdom_of_the_crowd).  \n",
    "  - The *average* of many \"guesses\" is better than any particular guess."
   ]
  },
  {
   "cell_type": "markdown",
   "id": "1865addf",
   "metadata": {
    "slideshow": {
     "slide_type": "slide"
    }
   },
   "source": [
    "## Lecture wrap-up\n",
    "\n",
    "- Traditional decision trees tend to **overfit**.  \n",
    "- We can improve upon decision trees using **ensemble learning**.  \n",
    "   - Example: *random forests* randomly sample subsets of *features* and *data*.\n",
    "- These models also yield `feature_importances`, a measure of which features are most useful. \n",
    "- Ensemble learners work by averaging the **wisdom of the crowd**. "
   ]
  }
 ],
 "metadata": {
  "celltoolbar": "Slideshow",
  "kernelspec": {
   "display_name": "Python 3 (ipykernel)",
   "language": "python",
   "name": "python3"
  },
  "language_info": {
   "codemirror_mode": {
    "name": "ipython",
    "version": 3
   },
   "file_extension": ".py",
   "mimetype": "text/x-python",
   "name": "python",
   "nbconvert_exporter": "python",
   "pygments_lexer": "ipython3",
   "version": "3.11.0"
  }
 },
 "nbformat": 4,
 "nbformat_minor": 5
}
