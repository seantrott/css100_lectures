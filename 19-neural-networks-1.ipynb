{
 "cells": [
  {
   "cell_type": "markdown",
   "id": "565fd595",
   "metadata": {
    "editable": true,
    "slideshow": {
     "slide_type": "slide"
    },
    "tags": []
   },
   "source": [
    "# Introduction to Neural Networks"
   ]
  },
  {
   "cell_type": "markdown",
   "id": "58997db4-551c-4a50-973a-e8fc2a4d2df2",
   "metadata": {
    "editable": true,
    "slideshow": {
     "slide_type": "slide"
    },
    "tags": []
   },
   "source": [
    "## Lecture plan\n",
    "\n",
    "- Why study neural networks? The **\"deep learning\" revolution**.\n",
    "- A brief **history** of neural networks.\n",
    "   - Artificial neurons and perceptrons.\n",
    "   - The X-OR problem and **non-linear separability**.\n",
    "   - Solving X-OR with **hidden layers**.\n",
    "- Modern \"deep nets\"."
   ]
  },
  {
   "cell_type": "markdown",
   "id": "2524f9a4-cf6d-4912-8843-75c00eed5a0f",
   "metadata": {
    "editable": true,
    "slideshow": {
     "slide_type": "slide"
    },
    "tags": []
   },
   "source": [
    "## Why study neural networks?\n",
    "\n",
    "> An **artificial neural network (ANN)** is a predictive model inspired by the structure and function of biological neural networks.\n",
    "\n",
    "- Neural networks are foundational to modern machine learning and AI.\n",
    "   - Large Language Models (LLMs) like ChatGPT are neural networks.\n",
    "   - Self-driving cars, face recognition, etc., are also built using neural networks.\n",
    "- **\"Deep learning\"** = really big neural networks."
   ]
  },
  {
   "cell_type": "markdown",
   "id": "bb916792-90c3-4a80-8122-cade16e048dd",
   "metadata": {
    "editable": true,
    "slideshow": {
     "slide_type": "slide"
    },
    "tags": []
   },
   "source": [
    "### Impressive \"black boxes\"\n",
    "\n",
    "- Modern neural networks are undeniably impressive.\n",
    "   - E.g., LLMs are incredibly powerful.\n",
    "- These systems are also **\"black boxes\"**.\n",
    "\n",
    "> Advances in the *performance* of neural networks (like LLMs) have outpaced our *understanding* of those systems.\n",
    "\n",
    "- As computational social scientists, our goal isn't (just) to **engineer** powerful systems.\n",
    "- We also want to *understand* them——and understand their impact on society."
   ]
  },
  {
   "cell_type": "markdown",
   "id": "1f8a6a7a-50e5-4e3b-92bd-8940c245488c",
   "metadata": {
    "editable": true,
    "slideshow": {
     "slide_type": "slide"
    },
    "tags": []
   },
   "source": [
    "## Neural networks: an abridged history\n",
    "\n",
    "> The history of neural networks is intertwined with the history of Cognitive Science, Neuroscience, and Computer Science.\n",
    "\n",
    "- In 1943, the first *artificial neuron* was characterized mathematically.\n",
    "- We've come a long way since then!\n",
    "- In this section, we'll dive into the details of that history.\n",
    "   - Understanding the history will also shed light on **current debates** and **applications**."
   ]
  },
  {
   "attachments": {},
   "cell_type": "markdown",
   "id": "980a24f1-28fb-4f97-92c2-a64a281bf249",
   "metadata": {
    "editable": true,
    "slideshow": {
     "slide_type": "slide"
    },
    "tags": []
   },
   "source": [
    "### Bioloigcal neurons: an inspiration\n",
    "\n",
    "> **Neurons** are the primary cells of the nervous system, e.g., the brain. \n",
    "\n",
    "- In 1940s, advances in **neurophysiology** had led to better understand of **neurons** and how they work.\n",
    "- Key insights:\n",
    "   - Neurons are *connected* to each other via **synapses**.\n",
    "   - These synapses allow neurons to \"send signals\" to each other. \n",
    "   - Inputs from one neuron neuron to another can cause the second neuron to **fire**.\n",
    "       - This is a **categorical** (\"all-or-none\") process.\n",
    "   - The connections (\"weights\") between neurons vary in strength.\n",
    "\n",
    "<img src=\"img/real_neuron.png\" width=\"300\" alt=\"Neuron illustration\">\n",
    "\n"
   ]
  },
  {
   "attachments": {},
   "cell_type": "markdown",
   "id": "120b5f43-a975-4913-b623-a3f0c84f5b5f",
   "metadata": {
    "editable": true,
    "slideshow": {
     "slide_type": "slide"
    },
    "tags": []
   },
   "source": [
    "### The first artificial neuron\n",
    "\n",
    "> The first **artificial neuron** was described in 1943 by Walter Pitts and Warren McCulloch.\n",
    "\n",
    "- **Goal**: Using basic structure of biological neuron, build a system that can calculate logical functions (`or` and `and`).\n",
    "- Basic structure:\n",
    "   - Two inputs: $X_1$ and $X_2$.\n",
    "   - Aggregate (e.g., sum) inputs using function $g$.\n",
    "   - Apply some **decision threshold** $f$: to fire, or not to fire?\n",
    "\n",
    "<img src=\"img/art_neuron.png\" width=\"300\" alt=\"Artificial neuron illustration\">\n",
    "\n"
   ]
  },
  {
   "attachments": {},
   "cell_type": "markdown",
   "id": "2a89b2ea-96d5-49c0-8a9d-87d51adede93",
   "metadata": {
    "editable": true,
    "slideshow": {
     "slide_type": "slide"
    },
    "tags": []
   },
   "source": [
    "### Artificial neurons as logic gates\n",
    "\n",
    "- Pitts and McCulloch shows that these artificial neurons could function as *logic gates*.\n",
    "- E.g., this formulation functions as an `or` gate.\n",
    "\n",
    "<img src=\"img/or_gate.png\" width=\"300\" alt=\"Artificial neuron illustration\">\n"
   ]
  },
  {
   "attachments": {},
   "cell_type": "markdown",
   "id": "b9e4d0a0-7bc3-4b1b-be7d-9d8bbc237935",
   "metadata": {
    "editable": true,
    "slideshow": {
     "slide_type": "slide"
    },
    "tags": []
   },
   "source": [
    "#### Check-in\n",
    "\n",
    "Can you implement a simple `or_gate` function? It should take in two inputs `x1` and `x2`, sum those inputs, and then return `1` if the sum is `>= 1`, and `0` otherwise."
   ]
  },
  {
   "cell_type": "code",
   "execution_count": 1,
   "id": "f3edf460-f4a9-4374-9b61-3f0816afc6b5",
   "metadata": {},
   "outputs": [],
   "source": [
    "### Your code here"
   ]
  },
  {
   "attachments": {},
   "cell_type": "markdown",
   "id": "2af3aaac-3e9c-486c-bfa2-9ecb693e1618",
   "metadata": {
    "editable": true,
    "slideshow": {
     "slide_type": "slide"
    },
    "tags": []
   },
   "source": [
    "#### A simple `or_gate`\n",
    "\n",
    "**Note**: Python already effectively implements this with `or`!"
   ]
  },
  {
   "cell_type": "code",
   "execution_count": 2,
   "id": "b3d4e076-48a2-4813-a7dd-8749bd823cc6",
   "metadata": {
    "editable": true,
    "slideshow": {
     "slide_type": ""
    },
    "tags": []
   },
   "outputs": [],
   "source": [
    "def or_gate(x1, x2):\n",
    "    sum = x1 + x2\n",
    "    if sum >= 1:\n",
    "        return 1\n",
    "    return 0"
   ]
  },
  {
   "cell_type": "code",
   "execution_count": 3,
   "id": "f2ec8421-4bc5-4a57-a2be-71e3983954a0",
   "metadata": {},
   "outputs": [
    {
     "data": {
      "text/plain": [
       "1"
      ]
     },
     "execution_count": 3,
     "metadata": {},
     "output_type": "execute_result"
    }
   ],
   "source": [
    "or_gate(1, 0)"
   ]
  },
  {
   "cell_type": "code",
   "execution_count": 4,
   "id": "5401921b-3a68-466b-b2b7-48eabcb3b8c8",
   "metadata": {},
   "outputs": [
    {
     "data": {
      "text/plain": [
       "1"
      ]
     },
     "execution_count": 4,
     "metadata": {},
     "output_type": "execute_result"
    }
   ],
   "source": [
    "or_gate(0, 1)"
   ]
  },
  {
   "cell_type": "code",
   "execution_count": 5,
   "id": "e9c6fddc-144b-4cea-87ab-baff52778d8e",
   "metadata": {},
   "outputs": [
    {
     "data": {
      "text/plain": [
       "0"
      ]
     },
     "execution_count": 5,
     "metadata": {},
     "output_type": "execute_result"
    }
   ],
   "source": [
    "or_gate(0, 0)"
   ]
  },
  {
   "attachments": {},
   "cell_type": "markdown",
   "id": "9cf3538f-b61c-47a9-a147-7bd08d776f7b",
   "metadata": {
    "editable": true,
    "slideshow": {
     "slide_type": "slide"
    },
    "tags": []
   },
   "source": [
    "### Learning from data\n",
    "\n",
    "- In the 1950s, Frank Rosenblatt improved upon this first artificial neuron with the **perceptron**.\n",
    "- Using **supervised learning**, the perceptron updated *weights* from its inputs to outputs.\n",
    "- Aggregation function: $\\sum_i^nx_iw_i + b$, where $b$ is a general \"bias\" term.\n",
    "    - This formula is basically the linear equation!\n",
    "- Decision function: Pass output of $g$ through some **filter** to decide whether to fire.\n",
    "\n",
    "<img src=\"img/perceptron.png\" width=\"300\" alt=\"Perceptron\">\n"
   ]
  },
  {
   "attachments": {},
   "cell_type": "markdown",
   "id": "ca4b5dab-a06d-4fdd-82e4-442eeba63e8e",
   "metadata": {
    "editable": true,
    "slideshow": {
     "slide_type": "slide"
    },
    "tags": []
   },
   "source": [
    "#### Learning in action: a simple perceptron\n",
    "\n",
    "> To illustrate **learning**, let's consider a simple case of a single input $x_1$ and single weight $w_1$.\n",
    "\n",
    "- Suppose we have **training data** $X$ and $Y$.\n",
    "- We want to find a value for $w_1$ that allows us to predict $Y$ from $X$.\n",
    "\n",
    "<img src=\"img/single_weight.png\" width=\"300\" alt=\"Perceptron with a single weight\">\n"
   ]
  },
  {
   "attachments": {},
   "cell_type": "markdown",
   "id": "dd13b12a-ad5e-4a8e-8a62-ac8b93db8ef7",
   "metadata": {
    "editable": true,
    "slideshow": {
     "slide_type": "slide"
    },
    "tags": []
   },
   "source": [
    "#### A simple linear relationship\n",
    "\n",
    "- In this example, $X$ and $Y$ have a perfect linear relationship.\n",
    "- We can try out different values of $w_1$ and see which generates the least **prediction error**."
   ]
  },
  {
   "cell_type": "code",
   "execution_count": 6,
   "id": "b6c9829b-c59e-4067-89f6-abf214b454b0",
   "metadata": {},
   "outputs": [
    {
     "data": {
      "text/plain": [
       "<matplotlib.collections.PathCollection at 0x118ce28d0>"
      ]
     },
     "execution_count": 6,
     "metadata": {},
     "output_type": "execute_result"
    },
    {
     "data": {
      "image/png": "[encoded data removed]",
      "text/plain": [
       "<Figure size 640x480 with 1 Axes>"
      ]
     },
     "metadata": {},
     "output_type": "display_data"
    }
   ],
   "source": [
    "import matplotlib.pyplot as plt\n",
    "import numpy as np\n",
    "x = np.linspace(1, 10, 10)\n",
    "y = x * 1.1\n",
    "plt.scatter(x, y, s = 100)"
   ]
  },
  {
   "attachments": {},
   "cell_type": "markdown",
   "id": "c902de56-243c-4180-a965-77f94093cf39",
   "metadata": {
    "editable": true,
    "slideshow": {
     "slide_type": "slide"
    },
    "tags": []
   },
   "source": [
    "#### Check-in: trying different weights\n",
    "\n",
    "Try a few different values of $w_1$, e.g., `[0, .5, 1, 1.5, 2]` and see how their predictions compare."
   ]
  },
  {
   "cell_type": "code",
   "execution_count": 7,
   "id": "0e2a49c3-222c-4d0c-973e-001766bf7e4c",
   "metadata": {},
   "outputs": [],
   "source": [
    "### Your code here"
   ]
  },
  {
   "attachments": {},
   "cell_type": "markdown",
   "id": "a78c7985-402e-4284-912a-de48879abf27",
   "metadata": {
    "editable": true,
    "slideshow": {
     "slide_type": "slide"
    },
    "tags": []
   },
   "source": [
    "#### A quick implementation\n",
    "\n",
    "Based on this plot, the weight of `1` is closest, though not perfect. Good enough for now!"
   ]
  },
  {
   "cell_type": "code",
   "execution_count": 8,
   "id": "a3d9e919-bc08-468b-be06-2cfcb202934b",
   "metadata": {},
   "outputs": [
    {
     "data": {
      "text/plain": [
       "<matplotlib.legend.Legend at 0x118d1f650>"
      ]
     },
     "execution_count": 8,
     "metadata": {},
     "output_type": "execute_result"
    },
    {
     "data": {
      "image/png": "[encoded data removed]",
      "text/plain": [
       "<Figure size 640x480 with 1 Axes>"
      ]
     },
     "metadata": {},
     "output_type": "display_data"
    }
   ],
   "source": [
    "weights = [0, .5, 1, 1.5, 2]\n",
    "plt.scatter(x, y, s = 100)\n",
    "for w in weights:\n",
    "    y_pred = x * w\n",
    "    plt.plot(x, y_pred, alpha = .5, label = \"weight = {w}\".format(w=w))\n",
    "plt.legend()"
   ]
  },
  {
   "attachments": {},
   "cell_type": "markdown",
   "id": "302d0371-9b9b-4af0-a777-c246542b8d03",
   "metadata": {
    "editable": true,
    "slideshow": {
     "slide_type": "slide"
    },
    "tags": []
   },
   "source": [
    "### Lots of excitement\n",
    "\n",
    "- There was *lots* of excitement following the announcement of Rosenblatt's perceptron.\n",
    "- It was an example of a system **\"learning from experience\"**.\n",
    "  - In reality, it wasn't all that different from linear regression or other statistical models.\n",
    "  - But because it was inspired by the brain (loosely), people thought it had more promise.\n",
    "\n",
    "A press release announced:\n",
    "\n",
    "> “…the Navy revealed the embryo of an electronic computer today that it expects will be able to walk, talk, see, write, reproduce itself and be conscious of its existence…”  \r\n",
    "\n",
    "But the excitement didn't last forever!\n"
   ]
  },
  {
   "attachments": {},
   "cell_type": "markdown",
   "id": "ce6809cc-bc37-48a4-8943-dae9d29c0bb1",
   "metadata": {
    "editable": true,
    "slideshow": {
     "slide_type": "slide"
    },
    "tags": []
   },
   "source": [
    "### The X-OR Problem\n",
    "\n",
    "- In the 1960s, researchers like Marvin Minsky showed that a simple perceptron *could not* implement certain functions, like X-OR.\n",
    "- These functions are **non-linearly separable** (see lecture on SVMs!).\n",
    "\n",
    "<img src=\"img/xor.png\" width=\"300\" alt=\"Perceptron\">"
   ]
  },
  {
   "attachments": {},
   "cell_type": "markdown",
   "id": "716ccda6-a5e4-4a9a-82cf-1659e230b0e0",
   "metadata": {
    "editable": true,
    "slideshow": {
     "slide_type": "slide"
    },
    "tags": []
   },
   "source": [
    "#### Implementing `xor` in Python\n",
    "\n",
    "- `xor` is a **non-linearly separable** function.\n",
    "- Basic intuition: return `1` if `x1` and `x2` are not the same, return `0` if they are the same. "
   ]
  },
  {
   "cell_type": "code",
   "execution_count": 9,
   "id": "d0f7160f-af19-4251-89a4-53ea39e1dcbe",
   "metadata": {},
   "outputs": [],
   "source": [
    "def xor(x1, x2):\n",
    "    if x1 == 0 and x2 == 1:\n",
    "        return True\n",
    "    if x1 == 1 and x2 == 0:\n",
    "        return True\n",
    "    return False"
   ]
  },
  {
   "cell_type": "code",
   "execution_count": 10,
   "id": "8094b128-9ff2-4a1f-9105-f16a5f9cbeb0",
   "metadata": {},
   "outputs": [
    {
     "data": {
      "text/plain": [
       "True"
      ]
     },
     "execution_count": 10,
     "metadata": {},
     "output_type": "execute_result"
    }
   ],
   "source": [
    "xor(1, 0)"
   ]
  },
  {
   "cell_type": "code",
   "execution_count": 11,
   "id": "13d7fa2e-500c-4ea5-bbe9-95319e5d1fcc",
   "metadata": {},
   "outputs": [
    {
     "data": {
      "text/plain": [
       "False"
      ]
     },
     "execution_count": 11,
     "metadata": {},
     "output_type": "execute_result"
    }
   ],
   "source": [
    "xor(1, 1)"
   ]
  },
  {
   "attachments": {},
   "cell_type": "markdown",
   "id": "799a50cd-2e59-4975-8a21-ce7187c20ff5",
   "metadata": {
    "editable": true,
    "slideshow": {
     "slide_type": "slide"
    },
    "tags": []
   },
   "source": [
    "### Why X-OR was a problem\n",
    "\n",
    "- Neural networks were initially presented as systems that could **learn** to implement various functions.\n",
    "- But `xor` is not a particularly complex function——it's just not linearly separable.\n",
    "- If neural networks couldn't learn `xor`, there's probably lots of other stuff they couldn't learn too.\n",
    "- This destroyed interest in neural networks for a few decades, leading to the first [\"AI winter\"](https://en.wikipedia.org/wiki/AI_winter)."
   ]
  },
  {
   "attachments": {},
   "cell_type": "markdown",
   "id": "f67cc388-aa65-4830-84f7-91356b43f5be",
   "metadata": {
    "editable": true,
    "slideshow": {
     "slide_type": "slide"
    },
    "tags": []
   },
   "source": [
    "### Hidden layers to the rescue!\n",
    "\n",
    "> Adding **\"hidden layers\"** between the *input* and *output* enables neural networks to learn non-linearly separable problems.\n",
    "\n",
    "- This was known even in the 1960s, but was too hard to implement.\n",
    "- Techniques like [backpropagation](https://en.wikipedia.org/wiki/Backpropagation) were invented in the 1980s, which made it more *computationally tractable*. \n",
    "\n",
    "<img src=\"img/hidden_layers.png\" width=\"300\" alt=\"Hidden layers\">"
   ]
  },
  {
   "attachments": {},
   "cell_type": "markdown",
   "id": "0da36eef-a9dd-4a60-8d12-f73bc5e31000",
   "metadata": {
    "editable": true,
    "slideshow": {
     "slide_type": "slide"
    },
    "tags": []
   },
   "source": [
    "### Why do hidden layers work?\n",
    "\n",
    "> A **hidden layer** adds new *parameters* to a neural network, which expands the space of features (and relationships) the system can learn.\n",
    "\n",
    "- Similar intuition as a **non-linear kernel trick** for SVM.\n",
    "- Also similar to **polynomial regression**.\n",
    "\n",
    "\n",
    "<img src=\"img/networks/nn1.png\" width=\"300\" alt=\"Larger model\">"
   ]
  },
  {
   "attachments": {},
   "cell_type": "markdown",
   "id": "4832f345-8fdb-4214-b641-0d116fbe925e",
   "metadata": {
    "editable": true,
    "slideshow": {
     "slide_type": "slide"
    },
    "tags": []
   },
   "source": [
    "## Modern \"deep nets\"\n",
    "\n",
    "> The term **\"deep learning\"** refers to neural networks with multiple hidden layers (and lots of **hidden units** in each layer).\n",
    "\n",
    "There have been may advances since the 1980s.\n",
    "\n",
    "- New **architectures**: RNNs, Transformers, etc.\n",
    "- Better **compute**, e.g., Moore's Law.\n",
    "- More **data** for training.\n",
    "- The use of **GPUs** for model training."
   ]
  },
  {
   "attachments": {},
   "cell_type": "markdown",
   "id": "b1f72b57-a6b3-4876-8755-1270578c5d52",
   "metadata": {
    "editable": true,
    "slideshow": {
     "slide_type": "slide"
    },
    "tags": []
   },
   "source": [
    "### Even bigger models\n",
    "\n",
    "Modern neural networks have many layers (often more than depicted here!).\n",
    "\n",
    "<img src=\"img/networks/nn3.png\" width=\"300\" alt=\"Larger model\">"
   ]
  },
  {
   "attachments": {},
   "cell_type": "markdown",
   "id": "e0afdffe-7816-46cd-b403-2c2da06e876f",
   "metadata": {
    "editable": true,
    "slideshow": {
     "slide_type": "slide"
    },
    "tags": []
   },
   "source": [
    "### Novel architectures\n",
    "\n",
    "Researchers have also created new **architectures**, like recurrent neural networks. (We'll discuss these in more detail soon!)\n",
    "\n",
    "<img src=\"img/networks/rnn.webp\" width=\"500\" alt=\"Larger model\">"
   ]
  },
  {
   "attachments": {},
   "cell_type": "markdown",
   "id": "af4e6199-7349-4b27-b5fb-cf290d9afcb7",
   "metadata": {
    "editable": true,
    "slideshow": {
     "slide_type": "slide"
    },
    "tags": []
   },
   "source": [
    "## Key takeaways and wrap-up\n",
    "\n",
    "- Neural networks are ultimately a kind of **predictive model**.\n",
    "- A simple artificial neuron (perceptron) consists of **weights**, an **aggregation function**, and a **decision function**.\n",
    "    - \"Weights\" are similar to *coefficients* in linear regression!\n",
    "- Modern deep neural networks are much more **complex**.\n",
    "    - \"Deep\" = many *layers*.\n",
    "- Moving forward, we'll talk about:\n",
    "   - Building and training neural networks in Python using `pytorch`.\n",
    "   - Some of the **design considerations** regarding neural networks.\n",
    "   - Neural networks trained on language data, i.e., *large language models*."
   ]
  }
 ],
 "metadata": {
  "celltoolbar": "Slideshow",
  "kernelspec": {
   "display_name": "Python 3 (ipykernel)",
   "language": "python",
   "name": "python3"
  },
  "language_info": {
   "codemirror_mode": {
    "name": "ipython",
    "version": 3
   },
   "file_extension": ".py",
   "mimetype": "text/x-python",
   "name": "python",
   "nbconvert_exporter": "python",
   "pygments_lexer": "ipython3",
   "version": "3.11.0"
  }
 },
 "nbformat": 4,
 "nbformat_minor": 5
}
