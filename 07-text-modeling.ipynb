{
 "cells": [
  {
   "cell_type": "markdown",
   "id": "d761ef09",
   "metadata": {
    "slideshow": {
     "slide_type": "slide"
    }
   },
   "source": [
    "# Text modeling"
   ]
  },
  {
   "cell_type": "markdown",
   "id": "32a5650d",
   "metadata": {
    "slideshow": {
     "slide_type": "slide"
    }
   },
   "source": [
    "## Lecture plan\n",
    "\n",
    "- Modeling the *contents* of text.  \n",
    "- [tf-idf](https://en.wikipedia.org/wiki/Tf%E2%80%93idf): a (relatively) simple approach.  \n",
    "   - Basic premises of tf-idf.\n",
    "- Applying *tf-idf* in Python.\n",
    "- A brief tour of other methods."
   ]
  },
  {
   "cell_type": "markdown",
   "id": "c0f63810",
   "metadata": {
    "slideshow": {
     "slide_type": "slide"
    }
   },
   "source": [
    "## Load libraries"
   ]
  },
  {
   "cell_type": "code",
   "execution_count": 1,
   "id": "721eefa3",
   "metadata": {
    "slideshow": {
     "slide_type": "-"
    }
   },
   "outputs": [],
   "source": [
    "import numpy as np\n",
    "from scipy.spatial.distance import cosine\n",
    "\n",
    "import seaborn as sns\n",
    "import matplotlib.pyplot as plt"
   ]
  },
  {
   "cell_type": "code",
   "execution_count": 2,
   "id": "168c2769",
   "metadata": {
    "slideshow": {
     "slide_type": "-"
    }
   },
   "outputs": [],
   "source": [
    "%matplotlib inline\n",
    "%config InlineBackend.figure_format = 'retina'  # makes figs nicer!"
   ]
  },
  {
   "cell_type": "markdown",
   "id": "70a455f5",
   "metadata": {
    "slideshow": {
     "slide_type": "slide"
    }
   },
   "source": [
    "## Building models of text\n",
    "\n",
    "> Building a model of the **contents** of a text document involves figuring out \"what it's about\". \n",
    "\n",
    "- Common use case in NLP.  \n",
    "- Various techniques and approaches:\n",
    "   - [tf-idf](https://en.wikipedia.org/wiki/Tf%E2%80%93idf)\n",
    "   - [Latent Semantic Analysis](https://en.wikipedia.org/wiki/Latent_semantic_analysis)\n",
    "   - And much more!"
   ]
  },
  {
   "cell_type": "markdown",
   "id": "7cbfb30e",
   "metadata": {
    "slideshow": {
     "slide_type": "slide"
    }
   },
   "source": [
    "### What are these models good for?\n",
    "\n",
    "- [Information retrieval](https://en.wikipedia.org/wiki/Information_retrieval).\n",
    "   - Given a *search query* and some set of *documents*, which documents are most relevant?\n",
    "- [Document classification](https://en.wikipedia.org/wiki/Document_classification). \n",
    "   - Given a bunch of *documents*, what are their *categories*?\n",
    "- [Keyword extraction](https://monkeylearn.com/keyword-extraction/).  \n",
    "   - What are relevant *tags* or *keywords* to describe a document?  \n",
    "- [Summarization](https://en.wikipedia.org/wiki/Automatic_summarization).  \n",
    "   - Given a *document*, can we produce a readable *summary* of that document?\n",
    "   \n",
    "And much more."
   ]
  },
  {
   "cell_type": "markdown",
   "id": "a37f0fd5",
   "metadata": {
    "slideshow": {
     "slide_type": "slide"
    }
   },
   "source": [
    "### A long history of *models*\n",
    "\n",
    "- NLP practitioners have been building models of text for decades.  \n",
    "   - Even **sentiment analysis** counts as a model of text.\n",
    "- In recent years, text modeling has improved considerably.\n",
    "   - 2013: [word embeddings](https://en.wikipedia.org/wiki/Word_embedding) like *word2vec* are introduced.  \n",
    "   - 2017: [transformer](https://en.wikipedia.org/wiki/Transformer_(deep_learning_architecture)) architecture is introduced.\n",
    "   - 2022: [ChatGPT](https://chat.openai.com/) is released.\n",
    "- We'll start with [tf-idf](https://en.wikipedia.org/wiki/Tf%E2%80%93idf#Example_of_tf%E2%80%93idf), a conceptual precursor to those more advanced methods."
   ]
  },
  {
   "cell_type": "markdown",
   "id": "82d51339",
   "metadata": {
    "slideshow": {
     "slide_type": "slide"
    }
   },
   "source": [
    "## Introducing *tf-idf*\n",
    "\n",
    "> [*Tf-idf*](https://en.wikipedia.org/wiki/Tf%E2%80%93idf#Example_of_tf%E2%80%93idf), or **term frequency, inverse document frequency** is a technique for measuring how important a word is to a given document or corpus, adjusted for overall frequency."
   ]
  },
  {
   "cell_type": "markdown",
   "id": "c3bd7d53",
   "metadata": {
    "slideshow": {
     "slide_type": "slide"
    }
   },
   "source": [
    "### Basic premises\n",
    "\n",
    "What's a document *about*?\n",
    "\n",
    "- The contents of a document are in some sense the *words* that appear in it.  \n",
    "- Documents with more similar *words* are, on average, about more similar things.\n",
    "   - In Linguistics, this is known as the [distributional hypothesis](https://en.wikipedia.org/wiki/Distributional_semantics).  \n",
    "- A \"model\" of a document is the **count vector** of all the words that appear in it. \n",
    "- Some words are just more frequent overall, so we should **adjust** for that."
   ]
  },
  {
   "cell_type": "markdown",
   "id": "4c0890fb",
   "metadata": {
    "slideshow": {
     "slide_type": "slide"
    }
   },
   "source": [
    "### Before tf-idf: count vectors\n",
    "\n",
    "> A **count vector** is a *vector* (list) indicating the number of times each word $w$ in a vocabulary occurs in some document $d$.\n",
    "  \n",
    "![Optional Caption](img/vector.png)"
   ]
  },
  {
   "cell_type": "markdown",
   "id": "abbf0d21",
   "metadata": {
    "slideshow": {
     "slide_type": "slide"
    }
   },
   "source": [
    "### Documents as *vectors*, similarity as *proximity*\n",
    "\n",
    "> In **vector semantics**, the **cosine distance** between two document vectors can be used as a proxy for how similar those documents are. \n",
    "\n",
    "$\\Large cosine(v, w) = \\frac{v \\cdot w}{|v||w|}$\n",
    "\n",
    "- $v \\cdot w$: *dot product* between $v$ and $w$.  \n",
    "- $|v||w|$: size of $v$ and $w$. "
   ]
  },
  {
   "cell_type": "code",
   "execution_count": 3,
   "id": "0cf3f1dd",
   "metadata": {
    "slideshow": {
     "slide_type": "-"
    }
   },
   "outputs": [
    {
     "data": {
      "text/plain": [
       "0.024384321658394104"
      ]
     },
     "execution_count": 3,
     "metadata": {},
     "output_type": "execute_result"
    }
   ],
   "source": [
    "### Very close vectors\n",
    "v1 = np.array([1, 2, 5, 6])\n",
    "v2 = np.array([2, 3, 4, 7])\n",
    "cosine(v1, v2)  ### imported from scipy.spatial.distance"
   ]
  },
  {
   "cell_type": "markdown",
   "id": "a84ac1ec",
   "metadata": {
    "slideshow": {
     "slide_type": "slide"
    }
   },
   "source": [
    "#### Check-in\n",
    "\n",
    "Try to create two vectors with a larger `cosine` distance."
   ]
  },
  {
   "cell_type": "code",
   "execution_count": 4,
   "id": "58e1f68b",
   "metadata": {
    "slideshow": {
     "slide_type": "-"
    }
   },
   "outputs": [],
   "source": [
    "### Your code here"
   ]
  },
  {
   "cell_type": "markdown",
   "id": "d117cb00",
   "metadata": {
    "slideshow": {
     "slide_type": "slide"
    }
   },
   "source": [
    "#### Distant vectors\n",
    "\n",
    "- Vectors will be more *distant* if they have more *orthogonal* elements, i.e., they are uncorrelated. "
   ]
  },
  {
   "cell_type": "code",
   "execution_count": 5,
   "id": "7b12183a",
   "metadata": {
    "slideshow": {
     "slide_type": "-"
    }
   },
   "outputs": [
    {
     "data": {
      "text/plain": [
       "0.7571666024450942"
      ]
     },
     "execution_count": 5,
     "metadata": {},
     "output_type": "execute_result"
    }
   ],
   "source": [
    "### Very close vectors\n",
    "v1 = np.array([1, 2, 5, 6])\n",
    "v2 = np.array([6, 0, 0, 1])\n",
    "cosine(v1, v2)  ### imported from scipy.spatial.distance"
   ]
  },
  {
   "cell_type": "markdown",
   "id": "c6fe11d6",
   "metadata": {
    "slideshow": {
     "slide_type": "slide"
    }
   },
   "source": [
    "### Count vectors in Python (1)\n",
    "\n",
    "- We can use the `CountVectorizer` class to create a count matrix for a bunch of documents."
   ]
  },
  {
   "cell_type": "code",
   "execution_count": 6,
   "id": "6fece32d",
   "metadata": {
    "slideshow": {
     "slide_type": "-"
    }
   },
   "outputs": [],
   "source": [
    "from sklearn.feature_extraction.text import CountVectorizer\n",
    "import pandas as pd"
   ]
  },
  {
   "cell_type": "code",
   "execution_count": 7,
   "id": "a9a1be14",
   "metadata": {
    "slideshow": {
     "slide_type": "-"
    }
   },
   "outputs": [],
   "source": [
    "# Sample documents\n",
    "documents = [\n",
    "    'the sky is blue',\n",
    "    'the sun is bright',\n",
    "    'the sun in the sky is bright',\n",
    "    'we can see the shining sun, the bright sun'\n",
    "]"
   ]
  },
  {
   "cell_type": "markdown",
   "id": "16ec7911",
   "metadata": {
    "slideshow": {
     "slide_type": "slide"
    }
   },
   "source": [
    "### Count vectors in Python (2)\n",
    "\n",
    "- We call `vectorizer.fit_transformer` on our documents.\n",
    "- Then we convert that matrix to a `DataFrame`."
   ]
  },
  {
   "cell_type": "code",
   "execution_count": 8,
   "id": "a488afeb",
   "metadata": {
    "slideshow": {
     "slide_type": "-"
    }
   },
   "outputs": [
    {
     "data": {
      "text/plain": [
       "<4x11 sparse matrix of type '<class 'numpy.int64'>'\n",
       "\twith 21 stored elements in Compressed Sparse Row format>"
      ]
     },
     "execution_count": 8,
     "metadata": {},
     "output_type": "execute_result"
    }
   ],
   "source": [
    "# Create a CountVectorizer object\n",
    "vectorizer = CountVectorizer()\n",
    "# Fit and transform the documents\n",
    "count_matrix = vectorizer.fit_transform(documents)\n",
    "count_matrix"
   ]
  },
  {
   "cell_type": "code",
   "execution_count": 9,
   "id": "8cd204e1",
   "metadata": {},
   "outputs": [
    {
     "name": "stdout",
     "output_type": "stream",
     "text": [
      "            blue  bright  can  in  is  see  shining  sky  sun  the  we\n",
      "Document 1     1       0    0   0   1    0        0    1    0    1   0\n",
      "Document 2     0       1    0   0   1    0        0    0    1    1   0\n",
      "Document 3     0       1    0   1   1    0        0    1    1    2   0\n",
      "Document 4     0       1    1   0   0    1        1    0    2    2   1\n"
     ]
    }
   ],
   "source": [
    "# Convert the matrix to an array and label the columns and rows\n",
    "count_array = count_matrix.toarray()\n",
    "df = pd.DataFrame(count_array, columns=vectorizer.get_feature_names_out(), \n",
    "                  index=[f\"Document {i+1}\" for i in range(len(documents))])\n",
    "print(df)"
   ]
  },
  {
   "cell_type": "markdown",
   "id": "6b16289c",
   "metadata": {
    "slideshow": {
     "slide_type": "slide"
    }
   },
   "source": [
    "### Count vectors in Python (3)\n",
    "\n",
    "- Finally, we can compute the *cosine distance* between our documents."
   ]
  },
  {
   "cell_type": "code",
   "execution_count": 10,
   "id": "0f16cba0",
   "metadata": {},
   "outputs": [
    {
     "data": {
      "text/plain": [
       "0.5"
      ]
     },
     "execution_count": 10,
     "metadata": {},
     "output_type": "execute_result"
    }
   ],
   "source": [
    "### Distance between doc 1 and doc 2\n",
    "cosine(df.loc['Document 1'], df.loc['Document 2'])"
   ]
  },
  {
   "cell_type": "code",
   "execution_count": 11,
   "id": "9510deb0",
   "metadata": {},
   "outputs": [
    {
     "data": {
      "text/plain": [
       "0.33333333333333337"
      ]
     },
     "execution_count": 11,
     "metadata": {},
     "output_type": "execute_result"
    }
   ],
   "source": [
    "### Distance between doc 1 and doc 3\n",
    "cosine(df.loc['Document 1'], df.loc['Document 3'])"
   ]
  },
  {
   "cell_type": "code",
   "execution_count": 12,
   "id": "11346678",
   "metadata": {},
   "outputs": [
    {
     "data": {
      "text/plain": [
       "0.16666666666666663"
      ]
     },
     "execution_count": 12,
     "metadata": {},
     "output_type": "execute_result"
    }
   ],
   "source": [
    "### Distance between doc 2 and doc 3\n",
    "cosine(df.loc['Document 2'], df.loc['Document 3'])"
   ]
  },
  {
   "cell_type": "markdown",
   "id": "618d39b7",
   "metadata": {
    "slideshow": {
     "slide_type": "slide"
    }
   },
   "source": [
    "### The problem with *counts*\n",
    "\n",
    "- Some words are simply more **frequent overall**. \n",
    "- Using the *raw counts* of words does not control for the **uniqueness** of a given word to a given document.\n",
    "   - E.g., \"the\" is extremely frequent, but doesn't tell us much about what a document is about.  \n",
    "- Ideally, we'd have a way to calculate which words **uniquely co-occur**."
   ]
  },
  {
   "cell_type": "markdown",
   "id": "bf427ea7",
   "metadata": {
    "slideshow": {
     "slide_type": "slide"
    }
   },
   "source": [
    "## tf-idf: a potential solution\n",
    "\n",
    "> In [tf-idf](https://en.wikipedia.org/wiki/Tf%E2%80%93idf#Motivations), we compare the frequency of a word in a given document (**term frequency**) to the inverse frequency of that term across all documents (**inverse document frequency**). \n",
    "\n",
    "- $tf(t, d)$: *count* of term $t$ in document $d$.  \n",
    "   - Just like our `CountVectorizer` before.\n",
    "- $idf(t, D)$: how often does $t$ appear across all documents $D$?\n",
    "   - This is a new term!"
   ]
  },
  {
   "cell_type": "markdown",
   "id": "aaaa08be",
   "metadata": {
    "slideshow": {
     "slide_type": "slide"
    }
   },
   "source": [
    "### Understanding inverse document frequency\n",
    "\n",
    "> **Inverse document frequency** is measured in various different ways, but is meant to capture the *uniqueness* of a term to particular documents.\n",
    "\n",
    "$\\Large idf(t, D) = log(\\frac{N}{df_t})$\n",
    "\n",
    "- Where $N$ is the number of documents overall.  \n",
    "- And $df_t$ is the number of documents in which $t$ occurs."
   ]
  },
  {
   "cell_type": "markdown",
   "id": "fc1ed37a",
   "metadata": {
    "slideshow": {
     "slide_type": "slide"
    }
   },
   "source": [
    "#### Check-in\n",
    "\n",
    "How will inverse document frequency change as a term occurs across more or less documents?"
   ]
  },
  {
   "cell_type": "code",
   "execution_count": 13,
   "id": "f5014d4d",
   "metadata": {
    "slideshow": {
     "slide_type": "-"
    }
   },
   "outputs": [],
   "source": [
    "### Your code here"
   ]
  },
  {
   "cell_type": "markdown",
   "id": "eec88b5a",
   "metadata": {
    "slideshow": {
     "slide_type": "slide"
    }
   },
   "source": [
    "#### Solution"
   ]
  },
  {
   "cell_type": "code",
   "execution_count": 14,
   "id": "7aeebe9d",
   "metadata": {
    "slideshow": {
     "slide_type": "-"
    }
   },
   "outputs": [],
   "source": [
    "### range of df_t values\n",
    "df_t = np.arange(1, 101)\n",
    "### Number of documents\n",
    "N = 100\n",
    "### idf\n",
    "\n",
    "idf_t = np.log(N/df_t)"
   ]
  },
  {
   "cell_type": "code",
   "execution_count": 15,
   "id": "09652c15",
   "metadata": {
    "slideshow": {
     "slide_type": "-"
    }
   },
   "outputs": [
    {
     "data": {
      "text/plain": [
       "Text(0, 0.5, 'Inverse document frequency')"
      ]
     },
     "execution_count": 15,
     "metadata": {},
     "output_type": "execute_result"
    },
    {
     "data": {
      "image/png": "[encoded data removed]",
      "text/plain": [
       "<Figure size 640x480 with 1 Axes>"
      ]
     },
     "metadata": {
      "image/png": {
       "height": 432,
       "width": 554
      }
     },
     "output_type": "display_data"
    }
   ],
   "source": [
    "sns.lineplot(x = df_t, y = idf_t)\n",
    "plt.xlabel(\"Number of documents in which t occurs\")\n",
    "plt.ylabel(\"Inverse document frequency\")"
   ]
  },
  {
   "cell_type": "markdown",
   "id": "a3f92e44",
   "metadata": {
    "slideshow": {
     "slide_type": "slide"
    }
   },
   "source": [
    "### tf-idf: final explanation\n",
    "\n",
    "- Again: basic premise is that we can *compare* documents based on whether they have similar words. \n",
    "- But some words are more **frequent**, so we control for those overall term frequencies.  \n",
    "  - Common words like \"the\" and \"good\" will not *contribute* as much to the **representation** of a document.  \n",
    "  - Less common words will make a bigger **impact**.\n",
    "\n",
    "So how would this work in practice?"
   ]
  },
  {
   "cell_type": "markdown",
   "id": "2d89dbb1",
   "metadata": {
    "slideshow": {
     "slide_type": "slide"
    }
   },
   "source": [
    "### tf-idf in Python (1)\n",
    "\n",
    "- Syntactically, looks very similar to `CountVectorizer`!"
   ]
  },
  {
   "cell_type": "code",
   "execution_count": 16,
   "id": "d9bc43e2",
   "metadata": {
    "slideshow": {
     "slide_type": "-"
    }
   },
   "outputs": [],
   "source": [
    "from sklearn.feature_extraction.text import TfidfVectorizer"
   ]
  },
  {
   "cell_type": "code",
   "execution_count": 17,
   "id": "355fb95e",
   "metadata": {
    "slideshow": {
     "slide_type": "-"
    }
   },
   "outputs": [],
   "source": [
    "# Sample documents\n",
    "documents = [\n",
    "    'the sky is blue',\n",
    "    'the sun is bright',\n",
    "    'the sun in the sky is bright',\n",
    "    'we can see the shining sun, the bright sun'\n",
    "]"
   ]
  },
  {
   "cell_type": "markdown",
   "id": "89654442",
   "metadata": {
    "slideshow": {
     "slide_type": "slide"
    }
   },
   "source": [
    "### tf-idf in Python (2)"
   ]
  },
  {
   "cell_type": "code",
   "execution_count": 18,
   "id": "8028d7b9",
   "metadata": {
    "slideshow": {
     "slide_type": "-"
    }
   },
   "outputs": [],
   "source": [
    "# Create a TfidfVectorizer object\n",
    "vectorizer = TfidfVectorizer()\n",
    "# Fit and transform the documents\n",
    "tfidf_matrix = vectorizer.fit_transform(documents)\n",
    "# Get the feature names\n",
    "feature_names = vectorizer.get_feature_names_out()"
   ]
  },
  {
   "cell_type": "code",
   "execution_count": 19,
   "id": "d4ba5afe",
   "metadata": {
    "slideshow": {
     "slide_type": "-"
    }
   },
   "outputs": [
    {
     "name": "stdout",
     "output_type": "stream",
     "text": [
      "       blue    bright       can        in        is       see   shining  \\\n",
      "0  0.659191  0.000000  0.000000  0.000000  0.420753  0.000000  0.000000   \n",
      "1  0.000000  0.522109  0.000000  0.000000  0.522109  0.000000  0.000000   \n",
      "2  0.000000  0.321846  0.000000  0.504235  0.321846  0.000000  0.000000   \n",
      "3  0.000000  0.239102  0.374599  0.000000  0.000000  0.374599  0.374599   \n",
      "\n",
      "        sky       sun       the        we  \n",
      "0  0.519714  0.000000  0.343993  0.000000  \n",
      "1  0.000000  0.522109  0.426858  0.000000  \n",
      "2  0.397544  0.321846  0.526261  0.000000  \n",
      "3  0.000000  0.478204  0.390963  0.374599  \n"
     ]
    }
   ],
   "source": [
    "# Display the matrix\n",
    "import pandas as pd\n",
    "df = pd.DataFrame(tfidf_matrix.toarray(), columns=feature_names)\n",
    "print(df)"
   ]
  },
  {
   "cell_type": "markdown",
   "id": "536a78be",
   "metadata": {
    "slideshow": {
     "slide_type": "slide"
    }
   },
   "source": [
    "### tf-idf in Python (3)\n",
    "\n",
    "- Now we can compare our documents."
   ]
  },
  {
   "cell_type": "code",
   "execution_count": 20,
   "id": "7f041a1f",
   "metadata": {},
   "outputs": [
    {
     "data": {
      "text/plain": [
       "0.6334848685733299"
      ]
     },
     "execution_count": 20,
     "metadata": {},
     "output_type": "execute_result"
    }
   ],
   "source": [
    "### Distance between doc 1 and doc 2\n",
    "cosine(df.loc[0], df.loc[1])"
   ]
  },
  {
   "cell_type": "code",
   "execution_count": 21,
   "id": "42a2b427",
   "metadata": {},
   "outputs": [
    {
     "data": {
      "text/plain": [
       "0.476942561629634"
      ]
     },
     "execution_count": 21,
     "metadata": {},
     "output_type": "execute_result"
    }
   ],
   "source": [
    "### Distance between doc 1 and doc 3\n",
    "cosine(df.loc[0], df.loc[2])"
   ]
  },
  {
   "cell_type": "code",
   "execution_count": 22,
   "id": "776b991d",
   "metadata": {},
   "outputs": [
    {
     "data": {
      "text/plain": [
       "0.27124492054006377"
      ]
     },
     "execution_count": 22,
     "metadata": {},
     "output_type": "execute_result"
    }
   ],
   "source": [
    "### Distance between doc 2 and doc 3\n",
    "cosine(df.loc[1], df.loc[2])"
   ]
  },
  {
   "cell_type": "markdown",
   "id": "9fdb49e5",
   "metadata": {
    "slideshow": {
     "slide_type": "slide"
    }
   },
   "source": [
    "## tf-idf, applied\n",
    "\n",
    "- It's hard to see the *benefits* of *tf-idf* in such a small corpus of documents. \n",
    "- Let's look at a larger sample.  \n",
    "- This will also allow us to see how *tf-idf* can be used for **text classification**."
   ]
  },
  {
   "cell_type": "markdown",
   "id": "e02a3a5f",
   "metadata": {
    "slideshow": {
     "slide_type": "slide"
    }
   },
   "source": [
    "### Step 1: load our dataset\n",
    "\n",
    "- Let's use the *news groups* dataset from `sklearn`."
   ]
  },
  {
   "cell_type": "code",
   "execution_count": 23,
   "id": "de9699e7",
   "metadata": {
    "slideshow": {
     "slide_type": "-"
    }
   },
   "outputs": [],
   "source": [
    "from sklearn.datasets import fetch_20newsgroups"
   ]
  },
  {
   "cell_type": "code",
   "execution_count": 24,
   "id": "fb0a389e",
   "metadata": {
    "slideshow": {
     "slide_type": "-"
    }
   },
   "outputs": [],
   "source": [
    "# Load the 20 Newsgroups dataset\n",
    "newsgroups_data = fetch_20newsgroups(subset='all', remove=('headers', 'footers', 'quotes'))\n",
    "\n",
    "# Accessing the data\n",
    "documents = newsgroups_data.data\n",
    "categories = newsgroups_data.target"
   ]
  },
  {
   "cell_type": "code",
   "execution_count": 25,
   "id": "52d57028",
   "metadata": {
    "slideshow": {
     "slide_type": "-"
    }
   },
   "outputs": [
    {
     "data": {
      "text/plain": [
       "18846"
      ]
     },
     "execution_count": 25,
     "metadata": {},
     "output_type": "execute_result"
    }
   ],
   "source": [
    "### A little under 20K documents\n",
    "len(documents)"
   ]
  },
  {
   "cell_type": "code",
   "execution_count": 26,
   "id": "aa930186",
   "metadata": {
    "slideshow": {
     "slide_type": "-"
    }
   },
   "outputs": [
    {
     "data": {
      "text/plain": [
       "['alt.atheism',\n",
       " 'comp.graphics',\n",
       " 'comp.os.ms-windows.misc',\n",
       " 'comp.sys.ibm.pc.hardware']"
      ]
     },
     "execution_count": 26,
     "metadata": {},
     "output_type": "execute_result"
    }
   ],
   "source": [
    "### Example of some categories\n",
    "newsgroups_data.target_names[0:4]"
   ]
  },
  {
   "cell_type": "markdown",
   "id": "303583dd",
   "metadata": {
    "slideshow": {
     "slide_type": "slide"
    }
   },
   "source": [
    "### Step 2: Use `TfidfVectorizer`"
   ]
  },
  {
   "cell_type": "code",
   "execution_count": 27,
   "id": "adec47c6",
   "metadata": {
    "slideshow": {
     "slide_type": "-"
    }
   },
   "outputs": [],
   "source": [
    "from sklearn.feature_extraction.text import TfidfVectorizer\n",
    "# Initialize the TfidfVectorizer\n",
    "vectorizer = TfidfVectorizer(stop_words='english', max_df=0.5, min_df=2, max_features=None)"
   ]
  },
  {
   "cell_type": "code",
   "execution_count": 28,
   "id": "cffff25b",
   "metadata": {
    "slideshow": {
     "slide_type": "-"
    }
   },
   "outputs": [],
   "source": [
    "# Fit and transform our data\n",
    "X = vectorizer.fit_transform(documents)"
   ]
  },
  {
   "cell_type": "markdown",
   "id": "c658052f",
   "metadata": {
    "slideshow": {
     "slide_type": "slide"
    }
   },
   "source": [
    "### Step 2b: Checking our learned feature names\n",
    "\n",
    "- Now, our `feature_names` is a *much longer vector*.\n",
    "- It's *every word* in our corpus."
   ]
  },
  {
   "cell_type": "code",
   "execution_count": 29,
   "id": "6b09abab",
   "metadata": {
    "slideshow": {
     "slide_type": "-"
    }
   },
   "outputs": [
    {
     "data": {
      "text/plain": [
       "51840"
      ]
     },
     "execution_count": 29,
     "metadata": {},
     "output_type": "execute_result"
    }
   ],
   "source": [
    "# Get the feature names\n",
    "feature_names = vectorizer.get_feature_names_out()\n",
    "len(feature_names)"
   ]
  },
  {
   "cell_type": "code",
   "execution_count": 30,
   "id": "79599312",
   "metadata": {
    "slideshow": {
     "slide_type": "-"
    }
   },
   "outputs": [
    {
     "data": {
      "text/plain": [
       "array(['boulders', 'boulevard', 'bounce', 'bounced', 'bounces',\n",
       "       'bouncing', 'bound', 'boundaries', 'boundary', 'bounded'],\n",
       "      dtype=object)"
      ]
     },
     "execution_count": 30,
     "metadata": {},
     "output_type": "execute_result"
    }
   ],
   "source": [
    "# Random sample\n",
    "feature_names[10000:10010]"
   ]
  },
  {
   "cell_type": "markdown",
   "id": "f463177e",
   "metadata": {
    "slideshow": {
     "slide_type": "slide"
    }
   },
   "source": [
    "### Step 3: Train a classifier\n",
    "\n",
    "- We can use these as **features** to train a classifier to predict the *category* of an article."
   ]
  },
  {
   "cell_type": "code",
   "execution_count": 31,
   "id": "d06f2adb",
   "metadata": {
    "slideshow": {
     "slide_type": "-"
    }
   },
   "outputs": [],
   "source": [
    "from sklearn.linear_model import LogisticRegression"
   ]
  },
  {
   "cell_type": "code",
   "execution_count": 32,
   "id": "a2f5f5af",
   "metadata": {
    "slideshow": {
     "slide_type": "-"
    }
   },
   "outputs": [],
   "source": [
    "# Initialize the classifier\n",
    "clf = LogisticRegression(random_state=42, max_iter=1000)"
   ]
  },
  {
   "cell_type": "code",
   "execution_count": 33,
   "id": "610dfeda",
   "metadata": {
    "slideshow": {
     "slide_type": "-"
    }
   },
   "outputs": [
    {
     "data": {
      "text/html": [
       "<style>#sk-container-id-1 {\n",
       "  /* Definition of color scheme common for light and dark mode */\n",
       "  --sklearn-color-text: black;\n",
       "  --sklearn-color-line: gray;\n",
       "  /* Definition of color scheme for unfitted estimators */\n",
       "  --sklearn-color-unfitted-level-0: #fff5e6;\n",
       "  --sklearn-color-unfitted-level-1: #f6e4d2;\n",
       "  --sklearn-color-unfitted-level-2: #ffe0b3;\n",
       "  --sklearn-color-unfitted-level-3: chocolate;\n",
       "  /* Definition of color scheme for fitted estimators */\n",
       "  --sklearn-color-fitted-level-0: #f0f8ff;\n",
       "  --sklearn-color-fitted-level-1: #d4ebff;\n",
       "  --sklearn-color-fitted-level-2: #b3dbfd;\n",
       "  --sklearn-color-fitted-level-3: cornflowerblue;\n",
       "\n",
       "  /* Specific color for light theme */\n",
       "  --sklearn-color-text-on-default-background: var(--sg-text-color, var(--theme-code-foreground, var(--jp-content-font-color1, black)));\n",
       "  --sklearn-color-background: var(--sg-background-color, var(--theme-background, var(--jp-layout-color0, white)));\n",
       "  --sklearn-color-border-box: var(--sg-text-color, var(--theme-code-foreground, var(--jp-content-font-color1, black)));\n",
       "  --sklearn-color-icon: #696969;\n",
       "\n",
       "  @media (prefers-color-scheme: dark) {\n",
       "    /* Redefinition of color scheme for dark theme */\n",
       "    --sklearn-color-text-on-default-background: var(--sg-text-color, var(--theme-code-foreground, var(--jp-content-font-color1, white)));\n",
       "    --sklearn-color-background: var(--sg-background-color, var(--theme-background, var(--jp-layout-color0, #111)));\n",
       "    --sklearn-color-border-box: var(--sg-text-color, var(--theme-code-foreground, var(--jp-content-font-color1, white)));\n",
       "    --sklearn-color-icon: #878787;\n",
       "  }\n",
       "}\n",
       "\n",
       "#sk-container-id-1 {\n",
       "  color: var(--sklearn-color-text);\n",
       "}\n",
       "\n",
       "#sk-container-id-1 pre {\n",
       "  padding: 0;\n",
       "}\n",
       "\n",
       "#sk-container-id-1 input.sk-hidden--visually {\n",
       "  border: 0;\n",
       "  clip: rect(1px 1px 1px 1px);\n",
       "  clip: rect(1px, 1px, 1px, 1px);\n",
       "  height: 1px;\n",
       "  margin: -1px;\n",
       "  overflow: hidden;\n",
       "  padding: 0;\n",
       "  position: absolute;\n",
       "  width: 1px;\n",
       "}\n",
       "\n",
       "#sk-container-id-1 div.sk-dashed-wrapped {\n",
       "  border: 1px dashed var(--sklearn-color-line);\n",
       "  margin: 0 0.4em 0.5em 0.4em;\n",
       "  box-sizing: border-box;\n",
       "  padding-bottom: 0.4em;\n",
       "  background-color: var(--sklearn-color-background);\n",
       "}\n",
       "\n",
       "#sk-container-id-1 div.sk-container {\n",
       "  /* jupyter's `normalize.less` sets `[hidden] { display: none; }`\n",
       "     but bootstrap.min.css set `[hidden] { display: none !important; }`\n",
       "     so we also need the `!important` here to be able to override the\n",
       "     default hidden behavior on the sphinx rendered scikit-learn.org.\n",
       "     See: https://github.com/scikit-learn/scikit-learn/issues/21755 */\n",
       "  display: inline-block !important;\n",
       "  position: relative;\n",
       "}\n",
       "\n",
       "#sk-container-id-1 div.sk-text-repr-fallback {\n",
       "  display: none;\n",
       "}\n",
       "\n",
       "div.sk-parallel-item,\n",
       "div.sk-serial,\n",
       "div.sk-item {\n",
       "  /* draw centered vertical line to link estimators */\n",
       "  background-image: linear-gradient(var(--sklearn-color-text-on-default-background), var(--sklearn-color-text-on-default-background));\n",
       "  background-size: 2px 100%;\n",
       "  background-repeat: no-repeat;\n",
       "  background-position: center center;\n",
       "}\n",
       "\n",
       "/* Parallel-specific style estimator block */\n",
       "\n",
       "#sk-container-id-1 div.sk-parallel-item::after {\n",
       "  content: \"\";\n",
       "  width: 100%;\n",
       "  border-bottom: 2px solid var(--sklearn-color-text-on-default-background);\n",
       "  flex-grow: 1;\n",
       "}\n",
       "\n",
       "#sk-container-id-1 div.sk-parallel {\n",
       "  display: flex;\n",
       "  align-items: stretch;\n",
       "  justify-content: center;\n",
       "  background-color: var(--sklearn-color-background);\n",
       "  position: relative;\n",
       "}\n",
       "\n",
       "#sk-container-id-1 div.sk-parallel-item {\n",
       "  display: flex;\n",
       "  flex-direction: column;\n",
       "}\n",
       "\n",
       "#sk-container-id-1 div.sk-parallel-item:first-child::after {\n",
       "  align-self: flex-end;\n",
       "  width: 50%;\n",
       "}\n",
       "\n",
       "#sk-container-id-1 div.sk-parallel-item:last-child::after {\n",
       "  align-self: flex-start;\n",
       "  width: 50%;\n",
       "}\n",
       "\n",
       "#sk-container-id-1 div.sk-parallel-item:only-child::after {\n",
       "  width: 0;\n",
       "}\n",
       "\n",
       "/* Serial-specific style estimator block */\n",
       "\n",
       "#sk-container-id-1 div.sk-serial {\n",
       "  display: flex;\n",
       "  flex-direction: column;\n",
       "  align-items: center;\n",
       "  background-color: var(--sklearn-color-background);\n",
       "  padding-right: 1em;\n",
       "  padding-left: 1em;\n",
       "}\n",
       "\n",
       "\n",
       "/* Toggleable style: style used for estimator/Pipeline/ColumnTransformer box that is\n",
       "clickable and can be expanded/collapsed.\n",
       "- Pipeline and ColumnTransformer use this feature and define the default style\n",
       "- Estimators will overwrite some part of the style using the `sk-estimator` class\n",
       "*/\n",
       "\n",
       "/* Pipeline and ColumnTransformer style (default) */\n",
       "\n",
       "#sk-container-id-1 div.sk-toggleable {\n",
       "  /* Default theme specific background. It is overwritten whether we have a\n",
       "  specific estimator or a Pipeline/ColumnTransformer */\n",
       "  background-color: var(--sklearn-color-background);\n",
       "}\n",
       "\n",
       "/* Toggleable label */\n",
       "#sk-container-id-1 label.sk-toggleable__label {\n",
       "  cursor: pointer;\n",
       "  display: block;\n",
       "  width: 100%;\n",
       "  margin-bottom: 0;\n",
       "  padding: 0.5em;\n",
       "  box-sizing: border-box;\n",
       "  text-align: center;\n",
       "}\n",
       "\n",
       "#sk-container-id-1 label.sk-toggleable__label-arrow:before {\n",
       "  /* Arrow on the left of the label */\n",
       "  content: \"▸\";\n",
       "  float: left;\n",
       "  margin-right: 0.25em;\n",
       "  color: var(--sklearn-color-icon);\n",
       "}\n",
       "\n",
       "#sk-container-id-1 label.sk-toggleable__label-arrow:hover:before {\n",
       "  color: var(--sklearn-color-text);\n",
       "}\n",
       "\n",
       "/* Toggleable content - dropdown */\n",
       "\n",
       "#sk-container-id-1 div.sk-toggleable__content {\n",
       "  max-height: 0;\n",
       "  max-width: 0;\n",
       "  overflow: hidden;\n",
       "  text-align: left;\n",
       "  /* unfitted */\n",
       "  background-color: var(--sklearn-color-unfitted-level-0);\n",
       "}\n",
       "\n",
       "#sk-container-id-1 div.sk-toggleable__content.fitted {\n",
       "  /* fitted */\n",
       "  background-color: var(--sklearn-color-fitted-level-0);\n",
       "}\n",
       "\n",
       "#sk-container-id-1 div.sk-toggleable__content pre {\n",
       "  margin: 0.2em;\n",
       "  border-radius: 0.25em;\n",
       "  color: var(--sklearn-color-text);\n",
       "  /* unfitted */\n",
       "  background-color: var(--sklearn-color-unfitted-level-0);\n",
       "}\n",
       "\n",
       "#sk-container-id-1 div.sk-toggleable__content.fitted pre {\n",
       "  /* unfitted */\n",
       "  background-color: var(--sklearn-color-fitted-level-0);\n",
       "}\n",
       "\n",
       "#sk-container-id-1 input.sk-toggleable__control:checked~div.sk-toggleable__content {\n",
       "  /* Expand drop-down */\n",
       "  max-height: 200px;\n",
       "  max-width: 100%;\n",
       "  overflow: auto;\n",
       "}\n",
       "\n",
       "#sk-container-id-1 input.sk-toggleable__control:checked~label.sk-toggleable__label-arrow:before {\n",
       "  content: \"▾\";\n",
       "}\n",
       "\n",
       "/* Pipeline/ColumnTransformer-specific style */\n",
       "\n",
       "#sk-container-id-1 div.sk-label input.sk-toggleable__control:checked~label.sk-toggleable__label {\n",
       "  color: var(--sklearn-color-text);\n",
       "  background-color: var(--sklearn-color-unfitted-level-2);\n",
       "}\n",
       "\n",
       "#sk-container-id-1 div.sk-label.fitted input.sk-toggleable__control:checked~label.sk-toggleable__label {\n",
       "  background-color: var(--sklearn-color-fitted-level-2);\n",
       "}\n",
       "\n",
       "/* Estimator-specific style */\n",
       "\n",
       "/* Colorize estimator box */\n",
       "#sk-container-id-1 div.sk-estimator input.sk-toggleable__control:checked~label.sk-toggleable__label {\n",
       "  /* unfitted */\n",
       "  background-color: var(--sklearn-color-unfitted-level-2);\n",
       "}\n",
       "\n",
       "#sk-container-id-1 div.sk-estimator.fitted input.sk-toggleable__control:checked~label.sk-toggleable__label {\n",
       "  /* fitted */\n",
       "  background-color: var(--sklearn-color-fitted-level-2);\n",
       "}\n",
       "\n",
       "#sk-container-id-1 div.sk-label label.sk-toggleable__label,\n",
       "#sk-container-id-1 div.sk-label label {\n",
       "  /* The background is the default theme color */\n",
       "  color: var(--sklearn-color-text-on-default-background);\n",
       "}\n",
       "\n",
       "/* On hover, darken the color of the background */\n",
       "#sk-container-id-1 div.sk-label:hover label.sk-toggleable__label {\n",
       "  color: var(--sklearn-color-text);\n",
       "  background-color: var(--sklearn-color-unfitted-level-2);\n",
       "}\n",
       "\n",
       "/* Label box, darken color on hover, fitted */\n",
       "#sk-container-id-1 div.sk-label.fitted:hover label.sk-toggleable__label.fitted {\n",
       "  color: var(--sklearn-color-text);\n",
       "  background-color: var(--sklearn-color-fitted-level-2);\n",
       "}\n",
       "\n",
       "/* Estimator label */\n",
       "\n",
       "#sk-container-id-1 div.sk-label label {\n",
       "  font-family: monospace;\n",
       "  font-weight: bold;\n",
       "  display: inline-block;\n",
       "  line-height: 1.2em;\n",
       "}\n",
       "\n",
       "#sk-container-id-1 div.sk-label-container {\n",
       "  text-align: center;\n",
       "}\n",
       "\n",
       "/* Estimator-specific */\n",
       "#sk-container-id-1 div.sk-estimator {\n",
       "  font-family: monospace;\n",
       "  border: 1px dotted var(--sklearn-color-border-box);\n",
       "  border-radius: 0.25em;\n",
       "  box-sizing: border-box;\n",
       "  margin-bottom: 0.5em;\n",
       "  /* unfitted */\n",
       "  background-color: var(--sklearn-color-unfitted-level-0);\n",
       "}\n",
       "\n",
       "#sk-container-id-1 div.sk-estimator.fitted {\n",
       "  /* fitted */\n",
       "  background-color: var(--sklearn-color-fitted-level-0);\n",
       "}\n",
       "\n",
       "/* on hover */\n",
       "#sk-container-id-1 div.sk-estimator:hover {\n",
       "  /* unfitted */\n",
       "  background-color: var(--sklearn-color-unfitted-level-2);\n",
       "}\n",
       "\n",
       "#sk-container-id-1 div.sk-estimator.fitted:hover {\n",
       "  /* fitted */\n",
       "  background-color: var(--sklearn-color-fitted-level-2);\n",
       "}\n",
       "\n",
       "/* Specification for estimator info (e.g. \"i\" and \"?\") */\n",
       "\n",
       "/* Common style for \"i\" and \"?\" */\n",
       "\n",
       ".sk-estimator-doc-link,\n",
       "a:link.sk-estimator-doc-link,\n",
       "a:visited.sk-estimator-doc-link {\n",
       "  float: right;\n",
       "  font-size: smaller;\n",
       "  line-height: 1em;\n",
       "  font-family: monospace;\n",
       "  background-color: var(--sklearn-color-background);\n",
       "  border-radius: 1em;\n",
       "  height: 1em;\n",
       "  width: 1em;\n",
       "  text-decoration: none !important;\n",
       "  margin-left: 1ex;\n",
       "  /* unfitted */\n",
       "  border: var(--sklearn-color-unfitted-level-1) 1pt solid;\n",
       "  color: var(--sklearn-color-unfitted-level-1);\n",
       "}\n",
       "\n",
       ".sk-estimator-doc-link.fitted,\n",
       "a:link.sk-estimator-doc-link.fitted,\n",
       "a:visited.sk-estimator-doc-link.fitted {\n",
       "  /* fitted */\n",
       "  border: var(--sklearn-color-fitted-level-1) 1pt solid;\n",
       "  color: var(--sklearn-color-fitted-level-1);\n",
       "}\n",
       "\n",
       "/* On hover */\n",
       "div.sk-estimator:hover .sk-estimator-doc-link:hover,\n",
       ".sk-estimator-doc-link:hover,\n",
       "div.sk-label-container:hover .sk-estimator-doc-link:hover,\n",
       ".sk-estimator-doc-link:hover {\n",
       "  /* unfitted */\n",
       "  background-color: var(--sklearn-color-unfitted-level-3);\n",
       "  color: var(--sklearn-color-background);\n",
       "  text-decoration: none;\n",
       "}\n",
       "\n",
       "div.sk-estimator.fitted:hover .sk-estimator-doc-link.fitted:hover,\n",
       ".sk-estimator-doc-link.fitted:hover,\n",
       "div.sk-label-container:hover .sk-estimator-doc-link.fitted:hover,\n",
       ".sk-estimator-doc-link.fitted:hover {\n",
       "  /* fitted */\n",
       "  background-color: var(--sklearn-color-fitted-level-3);\n",
       "  color: var(--sklearn-color-background);\n",
       "  text-decoration: none;\n",
       "}\n",
       "\n",
       "/* Span, style for the box shown on hovering the info icon */\n",
       ".sk-estimator-doc-link span {\n",
       "  display: none;\n",
       "  z-index: 9999;\n",
       "  position: relative;\n",
       "  font-weight: normal;\n",
       "  right: .2ex;\n",
       "  padding: .5ex;\n",
       "  margin: .5ex;\n",
       "  width: min-content;\n",
       "  min-width: 20ex;\n",
       "  max-width: 50ex;\n",
       "  color: var(--sklearn-color-text);\n",
       "  box-shadow: 2pt 2pt 4pt #999;\n",
       "  /* unfitted */\n",
       "  background: var(--sklearn-color-unfitted-level-0);\n",
       "  border: .5pt solid var(--sklearn-color-unfitted-level-3);\n",
       "}\n",
       "\n",
       ".sk-estimator-doc-link.fitted span {\n",
       "  /* fitted */\n",
       "  background: var(--sklearn-color-fitted-level-0);\n",
       "  border: var(--sklearn-color-fitted-level-3);\n",
       "}\n",
       "\n",
       ".sk-estimator-doc-link:hover span {\n",
       "  display: block;\n",
       "}\n",
       "\n",
       "/* \"?\"-specific style due to the `<a>` HTML tag */\n",
       "\n",
       "#sk-container-id-1 a.estimator_doc_link {\n",
       "  float: right;\n",
       "  font-size: 1rem;\n",
       "  line-height: 1em;\n",
       "  font-family: monospace;\n",
       "  background-color: var(--sklearn-color-background);\n",
       "  border-radius: 1rem;\n",
       "  height: 1rem;\n",
       "  width: 1rem;\n",
       "  text-decoration: none;\n",
       "  /* unfitted */\n",
       "  color: var(--sklearn-color-unfitted-level-1);\n",
       "  border: var(--sklearn-color-unfitted-level-1) 1pt solid;\n",
       "}\n",
       "\n",
       "#sk-container-id-1 a.estimator_doc_link.fitted {\n",
       "  /* fitted */\n",
       "  border: var(--sklearn-color-fitted-level-1) 1pt solid;\n",
       "  color: var(--sklearn-color-fitted-level-1);\n",
       "}\n",
       "\n",
       "/* On hover */\n",
       "#sk-container-id-1 a.estimator_doc_link:hover {\n",
       "  /* unfitted */\n",
       "  background-color: var(--sklearn-color-unfitted-level-3);\n",
       "  color: var(--sklearn-color-background);\n",
       "  text-decoration: none;\n",
       "}\n",
       "\n",
       "#sk-container-id-1 a.estimator_doc_link.fitted:hover {\n",
       "  /* fitted */\n",
       "  background-color: var(--sklearn-color-fitted-level-3);\n",
       "}\n",
       "</style><div id=\"sk-container-id-1\" class=\"sk-top-container\"><div class=\"sk-text-repr-fallback\"><pre>LogisticRegression(max_iter=1000, random_state=42)</pre><b>In a Jupyter environment, please rerun this cell to show the HTML representation or trust the notebook. <br />On GitHub, the HTML representation is unable to render, please try loading this page with nbviewer.org.</b></div><div class=\"sk-container\" hidden><div class=\"sk-item\"><div class=\"sk-estimator fitted sk-toggleable\"><input class=\"sk-toggleable__control sk-hidden--visually\" id=\"sk-estimator-id-1\" type=\"checkbox\" checked><label for=\"sk-estimator-id-1\" class=\"sk-toggleable__label fitted sk-toggleable__label-arrow fitted\">&nbsp;&nbsp;LogisticRegression<a class=\"sk-estimator-doc-link fitted\" rel=\"noreferrer\" target=\"_blank\" href=\"https://scikit-learn.org/1.4/modules/generated/sklearn.linear_model.LogisticRegression.html\">?<span>Documentation for LogisticRegression</span></a><span class=\"sk-estimator-doc-link fitted\">i<span>Fitted</span></span></label><div class=\"sk-toggleable__content fitted\"><pre>LogisticRegression(max_iter=1000, random_state=42)</pre></div> </div></div></div></div>"
      ],
      "text/plain": [
       "LogisticRegression(max_iter=1000, random_state=42)"
      ]
     },
     "execution_count": 33,
     "metadata": {},
     "output_type": "execute_result"
    }
   ],
   "source": [
    "# Train the classifier\n",
    "clf.fit(X, categories)"
   ]
  },
  {
   "cell_type": "markdown",
   "id": "5bc7332a",
   "metadata": {
    "slideshow": {
     "slide_type": "slide"
    }
   },
   "source": [
    "### Step 4: Evaluate the classifier\n",
    "\n",
    "- Using these **learned features**, how accurately can we predict the category of a piece of text?"
   ]
  },
  {
   "cell_type": "code",
   "execution_count": 34,
   "id": "cac3d9c3",
   "metadata": {},
   "outputs": [],
   "source": [
    "from sklearn.metrics import accuracy_score, classification_report"
   ]
  },
  {
   "cell_type": "code",
   "execution_count": 35,
   "id": "966ec351",
   "metadata": {},
   "outputs": [],
   "source": [
    "# Predict the labels for the test set\n",
    "predictions = clf.predict(X)"
   ]
  },
  {
   "cell_type": "code",
   "execution_count": 36,
   "id": "a9a04061",
   "metadata": {},
   "outputs": [
    {
     "name": "stdout",
     "output_type": "stream",
     "text": [
      "Classification accuracy: 0.8962\n"
     ]
    }
   ],
   "source": [
    "# Accuracy score\n",
    "accuracy = accuracy_score(categories, predictions)\n",
    "print(f\"Classification accuracy: {accuracy:.4f}\")"
   ]
  },
  {
   "cell_type": "code",
   "execution_count": 43,
   "id": "467935ae-92e8-47e0-9809-8b91e5c198d2",
   "metadata": {},
   "outputs": [
    {
     "data": {
      "text/plain": [
       "(20, 51840)"
      ]
     },
     "execution_count": 43,
     "metadata": {},
     "output_type": "execute_result"
    }
   ],
   "source": [
    "clf.coef_.shape"
   ]
  },
  {
   "cell_type": "markdown",
   "id": "46a0afb1",
   "metadata": {
    "slideshow": {
     "slide_type": "slide"
    }
   },
   "source": [
    "#### Check-in\n",
    "\n",
    "Our accuracy was pretty high. But was there anything we should've done *differently* in how we fit our `TfidfVectorizer` and our `LogisticRegression` model?"
   ]
  },
  {
   "cell_type": "code",
   "execution_count": 37,
   "id": "529a50e1",
   "metadata": {
    "slideshow": {
     "slide_type": "-"
    }
   },
   "outputs": [],
   "source": [
    "### Your answer here"
   ]
  },
  {
   "cell_type": "markdown",
   "id": "9a503987",
   "metadata": {
    "slideshow": {
     "slide_type": "slide"
    }
   },
   "source": [
    "### The importance of cross-validation\n",
    "\n",
    "- Ordinarily, we would do a **train-test split**.  \n",
    "  - I skipped that for this demonstration, because there was already enough going on!\n",
    "- But a train-test split important is important both for:\n",
    "  - Fitting our *classifier*: train on some documents, test on others.  \n",
    "  - Learning our `TfidfVectorizer` features: `.fit_transform` on train set, `transform` test set.\n",
    "- Critical for avoiding **data leakage**."
   ]
  },
  {
   "cell_type": "markdown",
   "id": "91ed72fa",
   "metadata": {
    "slideshow": {
     "slide_type": "slide"
    }
   },
   "source": [
    "### tf-idf: wrap-up\n",
    "\n",
    "- Tf-idf is an approach to **modeling** the contents of text.  \n",
    "  - Gives us **features** to represent our text with.\n",
    "- In combination with other approaches (e.g., **classification**), this is really powerful.  \n",
    "- When we cover more advanced **machine learning** methods, these *applications* will make even more sense."
   ]
  },
  {
   "cell_type": "markdown",
   "id": "163d1f8d",
   "metadata": {
    "slideshow": {
     "slide_type": "slide"
    }
   },
   "source": [
    "## Modeling text: a very brief tour\n",
    "\n",
    "- tf-idf is certainly not the only game in town; these days it's not used as frequently.  \n",
    "- Other approaches worth knowing about if you go into NLP.\n",
    "   - [Latent semantic analysis (LSA)](https://en.wikipedia.org/wiki/Latent_semantic_analysis).\n",
    "   - [Latent Dirichlet allocation (LDA)](https://en.wikipedia.org/wiki/Latent_Dirichlet_allocation). \n",
    "   - [Word embeddings](https://en.wikipedia.org/wiki/Word_embedding). \n",
    "- Many of these other approaches improve upon tf-idf by discovering **latent \"topics\" or \"dimensions\"** among the term-document matrix.\n",
    "- Some of these topics will be discussed later in the quarter, when we cover **deep learning**. "
   ]
  },
  {
   "cell_type": "markdown",
   "id": "edcd0268",
   "metadata": {
    "slideshow": {
     "slide_type": "slide"
    }
   },
   "source": [
    "## Lecture wrap-up\n",
    "\n",
    "- Building **models** of text is a common use case in NLP and CSS.\n",
    "   - Helpful for retrieval, classification, and more. \n",
    "- One simple approach is to represent documents as the **words** they contain.\n",
    "- Tf-idf does that, and **normalizes** for the frequency of words across all documents. \n",
    "- More modern approaches improve upon tf-idf."
   ]
  }
 ],
 "metadata": {
  "celltoolbar": "Slideshow",
  "kernelspec": {
   "display_name": "Python 3 (ipykernel)",
   "language": "python",
   "name": "python3"
  },
  "language_info": {
   "codemirror_mode": {
    "name": "ipython",
    "version": 3
   },
   "file_extension": ".py",
   "mimetype": "text/x-python",
   "name": "python",
   "nbconvert_exporter": "python",
   "pygments_lexer": "ipython3",
   "version": "3.11.0"
  }
 },
 "nbformat": 4,
 "nbformat_minor": 5
}
